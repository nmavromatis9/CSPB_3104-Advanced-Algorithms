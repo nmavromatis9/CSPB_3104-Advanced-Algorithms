{
 "cells": [
  {
   "cell_type": "markdown",
   "metadata": {
    "deletable": false,
    "editable": false,
    "nbgrader": {
     "checksum": "9d050f4ea2fe4ec257d2203c783e5325",
     "grade": false,
     "grade_id": "cell-0b121a73255bed02",
     "locked": true,
     "schema_version": 1,
     "solution": false
    }
   },
   "source": [
    "# CSPB 3104 Assignment 3:"
   ]
  },
  {
   "cell_type": "markdown",
   "metadata": {
    "deletable": false,
    "editable": false,
    "nbgrader": {
     "checksum": "452612bc0436a4f1249ba98d43d138be",
     "grade": false,
     "grade_id": "cell-46512401074a6917",
     "locked": true,
     "schema_version": 1,
     "solution": false
    }
   },
   "source": [
    "***\n",
    "# Instructions\n",
    "\n",
    "This assignment is to be completed as a python3 notebook.\n",
    "\n",
    "The questions  provided  below will ask you to either write code or \n",
    "write answers in the form of markdown.\n",
    "\n",
    " Markdown syntax guide is here: [click here](https://github.com/adam-p/markdown-here/wiki/Markdown-Cheatsheet)\n",
    "\n",
    "Using markdown you can typeset formulae using latex.\n",
    "This way you can write nice readable answers with formulae like thus:\n",
    "\n",
    "The algorithm runs in time $\\Theta\\left(n^{2.1\\log_2(\\log_2( n \\log^*(n)))}\\right)$, \n",
    "where $\\log^*(n)$ is the inverse _Ackerman_ function.\n",
    "\n",
    "__Double click anywhere on this box to find out how your instructor typeset it. Press Shift+Enter to go back.__\n",
    "\n",
    "***"
   ]
  },
  {
   "cell_type": "markdown",
   "metadata": {
    "deletable": false,
    "editable": false,
    "nbgrader": {
     "checksum": "73e1fbc3b5c7157f3bef20465999b033",
     "grade": false,
     "grade_id": "cell-1ccdfb3a5473d2c9",
     "locked": true,
     "schema_version": 1,
     "solution": false
    }
   },
   "source": [
    "## Question 1\n",
    "\n",
    "Answer the following questions about heaps.\n",
    "\n",
    "__1(a)__  Write down an algorithm to find the third smallest element in a minheap with more than $3$ elements. You may write pseudocode or english description of the algorithm's steps. What is the running time complexity on a heap of size $n$? * Assume all elements in the heap are distinct *\n",
    "\n",
    "\n",
    "\n",
    "\n"
   ]
  },
  {
   "cell_type": "markdown",
   "metadata": {
    "deletable": false,
    "nbgrader": {
     "checksum": "2a58b73e05a482713e5ec701fa85e11b",
     "grade": true,
     "grade_id": "cell-44e21cce771fd831",
     "locked": false,
     "points": 20,
     "schema_version": 1,
     "solution": true
    }
   },
   "source": [
    "A min heap that obeys all rules always has the minimum element in the array as the root.  \n",
    "This algorithm is a variation of Heap Sort that stops early.  \n",
    "To extract the third smallest element, first extract the smallest element by calling delete on array[0],  \n",
    "which swaps array[0] with array[N-1], (where N=len(array)). Then adjust the length of the array to N-1,  \n",
    "then call bubble down on array[0] to maintain a proper min heap. Now, the second largest element is at the root.  \n",
    "Next, do these same sequence of steps once more so that the third largest element is at the root, and simply return this value.  \n",
    "\n",
    "Both delete and bubble down have a complexity $\\Theta(Log_{2}N)$,  \n",
    "because a maximum of  $\\Theta(Log_{2}N)$ steps are taken to bubble a value down to its proper place.  \n",
    "Delete (bubble down) is run 2 times, and returning the root (third smallest value overall) is $\\Theta(1)$  \n",
    "so that T(N)=$\\Theta(2Log_{2}N)$+$\\Theta(1)$, which, when constants are removed, becomes  \n",
    "$\\Theta(LogN)$, the overall complexity.  \n",
    "\n",
    "Note that swap and returning the min element are each trivial, being $\\Theta(1)$, so they do not affect the overall complexity.  \n",
    "\n"
   ]
  },
  {
   "cell_type": "markdown",
   "metadata": {
    "deletable": false,
    "editable": false,
    "nbgrader": {
     "checksum": "777eec29ec9c92175a07e6dd97514191",
     "grade": false,
     "grade_id": "cell-382bd790c682ff35",
     "locked": true,
     "schema_version": 1,
     "solution": false
    }
   },
   "source": [
    "__1(b)__ We wish to find the largest element in a min-heap represented by array $A[1], \\ldots, A[n]$. Show using a series of examples for $n=7$ that any element starting from $A[\\lceil{\\frac{n}{2}}\\rceil], \\ldots, A[n]$ can be the largest element. Your answer should be in the form of 4 min heaps."
   ]
  },
  {
   "cell_type": "markdown",
   "metadata": {
    "deletable": false,
    "nbgrader": {
     "checksum": "405bae515ba31f6e3239219bfb1a6cdf",
     "grade": true,
     "grade_id": "cell-b135c81ce6b4d8b3",
     "locked": false,
     "points": 20,
     "schema_version": 1,
     "solution": true
    }
   },
   "source": [
    "The maximum element in a min heap can be present at any position in the range $A[\\lceil{\\frac{n}{2}}\\rceil], \\ldots, A[n]$  \n",
    "Here are 4 min heap examples to indicate this for a heap of size 7.  \n",
    "In each example, one of the indicated positions has the largest element (A[4], A[5], A[6], or A[7]).  \n",
    "\n",
    "\n",
    "Note that a node in a min heap must just have a value <= to the value of both its children, and this is the main requirement.  \n",
    "\n",
    "Case 1 (Largest value in A[4]): A[1, 2, 3, 9, 7, 4, 5]  \n",
    "Case 2 (Largest value in A[5]): A[1, 2, 3, 7, 9, 4, 5]   \n",
    "Case 3 (Largest value in A[6]): A[1, 2, 3, 4, 5, 7, 6]   \n",
    "Case 4 (Largest value in A[7]): A[1, 2, 3, 4, 5, 6, 7]   \n"
   ]
  },
  {
   "cell_type": "markdown",
   "metadata": {
    "deletable": false,
    "editable": false,
    "nbgrader": {
     "checksum": "afdea52813d46083340cc7197a734959",
     "grade": false,
     "grade_id": "cell-4672753a75a929f2",
     "locked": true,
     "schema_version": 1,
     "solution": false
    }
   },
   "source": [
    "***\n",
    "## Question 2\n",
    "\n",
    "Suppose you have an array __A__ of *n* distinct elements.\n",
    "\n",
    "The following pseudocode finds the k biggest values of __A__:\n",
    "\n",
    "```\n",
    "Biggest(A, k): \\\\returns an array of the k biggest values of A\n",
    "        mergesort(A)  \n",
    "        return A[n-k, n]\n",
    " ```\n",
    " \n",
    "__2(a)__ What is the complexity of the above algorithm and why?\n",
    "\n"
   ]
  },
  {
   "cell_type": "markdown",
   "metadata": {
    "deletable": false,
    "nbgrader": {
     "checksum": "430a3d8bbf4fc986718a97ee29fc7251",
     "grade": true,
     "grade_id": "cell-1575a845d33f4f18",
     "locked": false,
     "points": 15,
     "schema_version": 1,
     "solution": true
    }
   },
   "source": [
    "Merge sort has an overall complexity of $\\Theta(nLogn)$ in the worst case.  \n",
    "The problem recursively divides the array into halves, until only one element remains, which takes $Log_{2}n$ steps.  \n",
    "It then makes a maximum of n comparisons in each level, and merging is linear, deriving the overall complexity of $\\Theta(nLogn)$.\n",
    "\n",
    "The final step of the algorithm simply returns a list slice of the k biggest values, which can be done in a max of $\\Theta(k)$ steps. \n",
    "  \n",
    "If you want to return (k=n) all n elements in the worst case this is $\\Theta(n)$.\n",
    "\n",
    "So, $T(n)=\\Theta(nLogn)+ \\Theta(n)$, and the leading term is $\\Theta(nLogn)$.  \n",
    "**So the overall complexity is $T(n)=\\Theta(nLogn)$ in the worst case.**  \n",
    "\n",
    "Here is another derivation of merge sort's complexity:  \n",
    "The recurrence for MS is T(n) = 2T(n/2) + n. Each recursive call divides the problem into 2 subproblems of size  (N/2),  \n",
    "and merging is done in linear time. Applying Case 2 of the Master Theoerem, for MS,  \n",
    "the worst case complexity is $\\Theta(NLogN)$.  \n",
    "\n",
    "Using the recurrence tree, merge sort's complexity is also given by:  \n",
    "$O(\\sum_{i=0}^{k} 2^{i} * (n/2^{i}))=O(NLogN)$  "
   ]
  },
  {
   "cell_type": "markdown",
   "metadata": {
    "deletable": false,
    "editable": false,
    "nbgrader": {
     "checksum": "11517f84d1fc563ae06775cf8e9bed77",
     "grade": false,
     "grade_id": "cell-8d54d1cf5d00c3e1",
     "locked": true,
     "schema_version": 1,
     "solution": false
    }
   },
   "source": [
    "__2(b)__ Now suppose that the order of the array was important.  Design and implement an algorithm that returns an array of the k largest elements of __A__ in their original order, and it should run in $\\Theta(nk)$ time.\n",
    "\n",
    "For example, BiggestInOrder([0,5,1,3,4], 3) should return [5,3,4]."
   ]
  },
  {
   "cell_type": "code",
   "execution_count": 1,
   "metadata": {
    "deletable": false,
    "nbgrader": {
     "checksum": "ce703e2dbcacac7bdea744bdfe402f42",
     "grade": false,
     "grade_id": "cell-86e5b5d458fdfe8a",
     "locked": false,
     "schema_version": 1,
     "solution": true
    }
   },
   "outputs": [],
   "source": [
    "#Strategy:Build a max heap out of the array (Theta(N))\n",
    "#then find k+1 largest value\n",
    "#by swapping A[0] and A[N-1] and rebuilding heap k times (Theta(1)+K*(Theta(N)).\n",
    "#The k+1 largest value is now at root.\n",
    "#Store this value, and find the original index of this value in array. (Theta(N))\n",
    "#Partition the original array around the index of k+1th value, so that the k+th largest values will be at the front of list, (Theta(N))\n",
    "#and finally return a slice of these. (Theta(1))\n",
    "\n",
    "#The overall complexity is then Theta(N).\n",
    "\n",
    "\n",
    "#Partition array around value at index P\n",
    "def partition(A, low, high, P):\n",
    "    \n",
    "    #i+1 is always next index to place values in R1, where values > pivot. \n",
    "    #R2 has values <= pivot,\n",
    "    #R3 has values unprocessed\n",
    "    \n",
    "    #always initialize i to (low-1)! KEY!!\n",
    "    i=low-1\n",
    "    p=A[P] #select pivot\n",
    "    #j is idx of unprocessed value\n",
    "    for j in range (low, high):\n",
    "        if A[j]>p: #***********************************************************\n",
    "            #increment i so that it A[i] swapped with A[j], adding to R1\n",
    "            i=i+1\n",
    "            #swap em\n",
    "            A[i], A[j] = A[j], A[i]\n",
    "        #else, j is automatically incremented by for loop, extending R2\n",
    "    #finally, place pivot in correct location by swapping, return its index\n",
    "    A[i+1], A[high]= A[high], A[i+1]\n",
    "    #i+1 Is KEY\n",
    "    return i+1\n",
    "\n",
    "        \n",
    "#Theta(LogN)\n",
    "#heapify array\n",
    "#N is len(A), i is starting index\n",
    "def heapify(A, N, i):\n",
    "    left=2*i+1\n",
    "    right=2*i+2\n",
    "    #initialize max to i\n",
    "    maxx=i\n",
    "    #check if left child exists, and assign max to left if approp.\n",
    "    if(left<N):\n",
    "        if(A[i]<A[left]):\n",
    "            maxx=left\n",
    "        \n",
    "    #check if two children exist, then assign max. Falls through from prev if if two children exist.\n",
    "    if(right<N):\n",
    "        if(A[right]>A[maxx]):\n",
    "            maxx=right\n",
    "    #swap parent and child if parent is not largest\n",
    "    if (maxx == left) or (maxx == right):\n",
    "        #Python has useful 1 line swap function\n",
    "        A[i],A[maxx] = A[maxx],A[i]  \n",
    "        #recursively call heapify on maxx index, which does bubble down until leaf node calls heapify(base case)\n",
    "        heapify(A, N, maxx)\n",
    "\n",
    "              \n",
    "def BiggestInOrder(A, k):\n",
    "    #if the whole array is requested, return it\n",
    "    if k==len(A):\n",
    "        return A\n",
    "    #create separate copy of A\n",
    "    copy=A.copy()\n",
    "    N=len(copy)\n",
    "    last=(N//2)-1\n",
    "    #create a max heap: heapify is Theta(N)\n",
    "    for i in range(last, -1, -1): \n",
    "         heapify(copy, N, i)\n",
    "    N=N-1\n",
    "    #find k+1 largest value\n",
    "    #Basically build heap: k*Theta(N) to find k+1 largest value \n",
    "    for i in range (0, k):\n",
    "         #store largest element\n",
    "         #swap largest element with last element then bubble down\n",
    "         copy[0], copy[N]=copy[N], copy[0]\n",
    "        #maintain heap by bubbling down \n",
    "         heapify(copy, N, 0)\n",
    "        #Must reduce heap size to N-1 each time.\n",
    "         N=N-1\n",
    "    #val now k+1 biggest value overall\n",
    "    val=copy[0]\n",
    "    #find original index of val, in list A. Store in i\n",
    "    #Theta(N)\n",
    "    for i in range(0, len(A)):\n",
    "        if A[i]==val:\n",
    "            break\n",
    "    #print(i)\n",
    "    #partition around k+1 biggest value, so that k largest values will be in original order at front of list.\n",
    "    #k*Theta(N)\n",
    "    partition(A, 0, len(A)-1, i)\n",
    "    #print(A)\n",
    "    j=0\n",
    "    L=[]\n",
    "    #append values to return list\n",
    "    while j<k:\n",
    "        L.append(A[j])\n",
    "        j+=1\n",
    "    #print(L)\n",
    "    return L"
   ]
  },
  {
   "cell_type": "markdown",
   "metadata": {
    "deletable": false,
    "editable": false,
    "nbgrader": {
     "checksum": "c3a70315d4af5fd2730f9742ca62b2dc",
     "grade": false,
     "grade_id": "cell-a97e8fabdb7f9862",
     "locked": true,
     "schema_version": 1,
     "solution": false
    }
   },
   "source": [
    "__2(c)__ If we don't care about the original ordering, then we can use a heap to design an algorithm that runs faster than the one in part (b).  Design and implement an algorithm that returns an array of the k largest elements of __A__ using a heap."
   ]
  },
  {
   "cell_type": "code",
   "execution_count": 2,
   "metadata": {
    "deletable": false,
    "nbgrader": {
     "checksum": "ab624a8a786a226b7a5c1db9114d7861",
     "grade": false,
     "grade_id": "cell-87b181f2bb909f14",
     "locked": false,
     "schema_version": 1,
     "solution": true
    }
   },
   "outputs": [],
   "source": [
    "#Given an array A, size N, and subtree rooted at i, create Max heap\n",
    "def heapify(A, N, i):\n",
    "    left=2*i+1\n",
    "    right=2*i+2\n",
    "    #initialize max to i\n",
    "    maxx=i\n",
    "    #check if left child exists, and assign max to left if approp.\n",
    "    if(left<N):\n",
    "        if(A[i]<A[left]):\n",
    "            maxx=left\n",
    "        \n",
    "    #check if two children exist, then assign max. Falls through from prev if if two children exist.\n",
    "    if(right<N):\n",
    "        if(A[right]>A[maxx]):\n",
    "            maxx=right\n",
    "    #swap parent and child if parent is not largest\n",
    "    if (maxx == left) or (maxx == right):\n",
    "        #Python has useful 1 line swap function\n",
    "        A[i],A[maxx] = A[maxx],A[i]  \n",
    "        #recursively call heapify on maxx index, which does bubble down until leaf node calls heapify(base case)\n",
    "        heapify(A, N, maxx)\n",
    "\n",
    "#sorts and retuns largest K numbers in reverse order.\n",
    "def heapHelp(A, k):\n",
    "    N=len(A)\n",
    "    L=[]\n",
    "    last=(N//2)-1\n",
    "    #Note that the last node with children is found by (N//2-1), which is the first node that needs to be heapifed/bubbled down\n",
    "    #need second arg to -1 so that loop goes to and including zero\n",
    "    for i in range(last, -1, -1): \n",
    "         heapify(A, N, i)\n",
    "         #extract k largest terms \n",
    "    #make N=N-1 for convenience of loop below\n",
    "    N=N-1\n",
    "    #extract largest k elements in reverse order\n",
    "    for i in range (0, k):\n",
    "         #store largest element\n",
    "         L.append(A[0])\n",
    "         #swap largest element with last element then bubble down\n",
    "         A[0], A[N]=A[N], A[0]\n",
    "        #maintain heap by bubbling down \n",
    "         heapify(A, N, 0)\n",
    "        #Must reduce heap size to N-1 each time.\n",
    "         N=N-1\n",
    "    return L\n",
    "\n",
    "#simply calls helper functions, above\n",
    "def BiggestOutOfOrder(A, k):\n",
    "    if k==len(A):\n",
    "        return(A)\n",
    "    L=heapHelp(A,k)\n",
    "    return L   "
   ]
  },
  {
   "cell_type": "markdown",
   "metadata": {
    "deletable": false,
    "editable": false,
    "nbgrader": {
     "checksum": "01842f0aca59b154b8c13927ecd8c034",
     "grade": false,
     "grade_id": "cell-999aec4713dd0723",
     "locked": true,
     "schema_version": 1,
     "solution": false
    }
   },
   "source": [
    "__2(d)__  What is the complexity of your algorithm for part (c)?"
   ]
  },
  {
   "cell_type": "markdown",
   "metadata": {
    "deletable": false,
    "nbgrader": {
     "checksum": "d4aca0fb5321791a5cb6a60f69794b68",
     "grade": true,
     "grade_id": "cell-d32a842a63f38af6",
     "locked": false,
     "points": 15,
     "schema_version": 1,
     "solution": true
    }
   },
   "source": [
    "HeapHelp() makes a max heap by calling heapify, which can be done in $\\Theta(N)$ time,  \n",
    "deriving  $\\Theta(N)$ complexity for the first part of heapsort.  \n",
    "The bottom loop in heapHelp then runs k times, appending k values (in $\\Theta(1)$ time),  \n",
    "swapping k values to the end of the list (in $\\Theta(1)$ time) then calling heapify k times in  (K)$\\Theta(N)$ time.  \n",
    "The overall $T(N)=\\Theta(N)+(K)\\Theta(N) + 2\\Theta(1)$, which simplifies to (by getting rid of constants and non-leading terms)  \n",
    "**$\\Theta(N)$ for the worst case overall complexity.** \n",
    "\n",
    "Part b) Also runs in $\\Theta(N)$ time, but is slower in practice due to more necessary operations to find the values in order. See comments in 2b) for more detailed information.  "
   ]
  },
  {
   "cell_type": "markdown",
   "metadata": {
    "deletable": false,
    "editable": false,
    "nbgrader": {
     "checksum": "849d0c1a3727267d0bb2bd7df00d01e6",
     "grade": false,
     "grade_id": "cell-ea68d6420d3528fa",
     "locked": true,
     "schema_version": 1,
     "solution": false
    }
   },
   "source": [
    "---\n",
    "## Testing your solutions -- Do not edit code beyond this point"
   ]
  },
  {
   "cell_type": "code",
   "execution_count": 3,
   "metadata": {
    "deletable": false,
    "editable": false,
    "nbgrader": {
     "checksum": "589162e20d0b32513b6bcdf7d893003c",
     "grade": true,
     "grade_id": "cell-2b3c60ad9c7c88e4",
     "locked": true,
     "points": 15,
     "schema_version": 1,
     "solution": false
    }
   },
   "outputs": [
    {
     "name": "stdout",
     "output_type": "stream",
     "text": [
      " num tests  =  10000\n",
      " num passed =  10000\n"
     ]
    }
   ],
   "source": [
    "from random import sample, randint\n",
    "def testBiggestInOrder(n_tests, test_size):\n",
    "    n_passed = 0\n",
    "    n_failed = 0\n",
    "    for i in range(0, n_tests):\n",
    "        a = sample( range(-10 * n_tests,  10 * n_tests ), test_size)\n",
    "        k = randint(1, len(a))\n",
    "        kbiggest = BiggestInOrder(a.copy(), k)\n",
    "        if len(kbiggest) != k:\n",
    "            if n_failed < 10:\n",
    "                print(' Code returns the wrong sized array!')\n",
    "            n_failed += 1\n",
    "            continue\n",
    "        if sorted(kbiggest) != sorted(a)[-k:]:\n",
    "            if n_failed < 10:\n",
    "                print(' Code did not return the ', k, ' biggest elements!')\n",
    "                print(' Code returned ', sorted(kbiggest), ' but we wanted ', sorted(a)[-k:], ' of ', a)\n",
    "            n_failed +=1\n",
    "            continue\n",
    "        currIndex = 0\n",
    "        inOrder = True\n",
    "        for j in range(0, len(kbiggest)):\n",
    "            for l in range(currIndex, len(a)):\n",
    "                if kbiggest[j] == a[l]:\n",
    "                    currIndex = l\n",
    "                    break\n",
    "                if l == len(a) - 1:\n",
    "                    inOrder = False\n",
    "        if inOrder == False:\n",
    "            if n_failed < 10:\n",
    "                print(' Code failed for input: ', a, 'returned : ', kbiggest, 'last correct index: ', currIndex)\n",
    "        else:\n",
    "            n_passed = n_passed + 1\n",
    "\n",
    "    return n_passed\n",
    "\n",
    "n_tests = 10000\n",
    "n_passed = testBiggestInOrder(10000, 10)\n",
    "print(' num tests  = ', n_tests)\n",
    "print(' num passed = ', n_passed)"
   ]
  },
  {
   "cell_type": "code",
   "execution_count": 4,
   "metadata": {
    "deletable": false,
    "editable": false,
    "nbgrader": {
     "checksum": "24fd18759631d9f362a938fc37899124",
     "grade": true,
     "grade_id": "cell-591c09b8573a47b0",
     "locked": true,
     "points": 15,
     "schema_version": 1,
     "solution": false
    }
   },
   "outputs": [
    {
     "name": "stdout",
     "output_type": "stream",
     "text": [
      " num tests  =  10000\n",
      " num passed =  10000\n"
     ]
    }
   ],
   "source": [
    "from random import sample, randint\n",
    "def testBiggestOutOfOrder(n_tests, test_size):\n",
    "    n_passed = 0\n",
    "    n_failed = 0\n",
    "    for i in range(0, n_tests):\n",
    "        a = sample( range(-10 * n_tests,  10 * n_tests ), test_size)\n",
    "        k = randint(1, len(a))\n",
    "        kbiggest = BiggestOutOfOrder(a.copy(), k)\n",
    "        if len(kbiggest) != k:\n",
    "            if n_failed < 10:\n",
    "                print(' Code returns the wrong sized array!')\n",
    "            n_failed += 1\n",
    "            continue\n",
    "        if sorted(kbiggest) != sorted(a)[-k:]:\n",
    "            if n_failed < 10:\n",
    "                print(' Code did not return the ', k, ' biggest elements!')\n",
    "                print(' Code returned ', sorted(kbiggest), ' but we wanted ', sorted(a)[-k:], 'where a is', a)\n",
    "            n_failed += 1\n",
    "            continue\n",
    "        n_passed = n_passed + 1\n",
    "    return n_passed\n",
    "\n",
    "n_tests = 10000\n",
    "n_passed = testBiggestOutOfOrder(10000, 10)\n",
    "print(' num tests  = ', n_tests)\n",
    "print(' num passed = ', n_passed)"
   ]
  },
  {
   "cell_type": "code",
   "execution_count": null,
   "metadata": {},
   "outputs": [],
   "source": []
  }
 ],
 "metadata": {
  "kernelspec": {
   "display_name": "Python 3",
   "language": "python",
   "name": "python3"
  },
  "language_info": {
   "codemirror_mode": {
    "name": "ipython",
    "version": 3
   },
   "file_extension": ".py",
   "mimetype": "text/x-python",
   "name": "python",
   "nbconvert_exporter": "python",
   "pygments_lexer": "ipython3",
   "version": "3.8.6"
  }
 },
 "nbformat": 4,
 "nbformat_minor": 4
}

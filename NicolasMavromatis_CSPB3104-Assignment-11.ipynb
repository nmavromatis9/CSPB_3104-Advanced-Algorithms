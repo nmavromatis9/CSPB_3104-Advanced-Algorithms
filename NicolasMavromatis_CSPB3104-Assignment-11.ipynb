{
 "cells": [
  {
   "cell_type": "markdown",
   "metadata": {},
   "source": [
    "# CSPB 3104 Assignment 11:\n",
    "## Instructions\n",
    "\n",
    "> This assignment is to be completed and uploaded to \n",
    "moodle as a python3 notebook. \n",
    "\n",
    "> Submission deadlines are posted on moodle. \n",
    "\n",
    "> The questions  provided  below will ask you to either write code or \n",
    "write answers in the form of markdown.\n",
    "\n",
    "> Markdown syntax guide is here: [click here](https://github.com/adam-p/markdown-here/wiki/Markdown-Cheatsheet)\n",
    "\n",
    "> Using markdown you can typeset formulae using latex.\n",
    "\n",
    "> This way you can write nice readable answers with formulae like thus:\n",
    "\n",
    ">> The algorithm runs in time $\\Theta\\left(n^{2.1\\log_2(\\log_2( n \\log^*(n)))}\\right)$, \n",
    "wherein $\\log^*(n)$ is the inverse _Ackerman_ function.\n",
    "\n",
    "__Double click anywhere on this box to find out how your instructor typeset it. Press Shift+Enter to go back.__\n"
   ]
  },
  {
   "cell_type": "markdown",
   "metadata": {},
   "source": [
    "## Question 1: Box Constrained Linear Program\n",
    "\n",
    "A box-constrained linear program is a problem of the following form:\n",
    "\n",
    "$$ \\begin{array}{rl}\n",
    "\\max & c_1 x_1 + \\cdots + c_n x_n \\\\\n",
    "\\mathsf{s.t.} & l_1 \\leq x_1 \\leq u_1 \\\\\n",
    "& l_2 \\leq x_2 \\leq u_2 \\\\\n",
    "& \\ddots \\\\\n",
    "& l_n \\leq x_n \\leq u_n \\\\\n",
    "\\end{array}$$\n",
    "\n",
    "In other words, each variable $x_i$ is constrained between lower limit $l_i$ and upper limit $u_i$.\n",
    "Given a box constrained LP, write down a linear time $\\Theta(n)$ algorithm to find its optimal solution."
   ]
  },
  {
   "cell_type": "markdown",
   "metadata": {},
   "source": [
    "### Answer (Expected Length: 3 lines)\n",
    "\n",
    "Because each $x_i$ is constrained, where  $x_i >= l_i$ (lower limit) and  $x_i <= u_i$ (upper limit),   \n",
    "the feasible region for each varaiable will be in between two lines parallel to the x axis.   \n",
    "\n",
    "Each $x_i$ variable will then have an easily found and obvious max value, where the max value for $x_i=u_i$.   \n",
    "Set each $x_i=u_i$, then plug them into the objective equation to find the max objective value (optimal solution).     \n",
    "Because the dimensions of the objective variables are constrained, the solution runs in linear time.   \n",
    "\n"
   ]
  },
  {
   "cell_type": "markdown",
   "metadata": {},
   "source": [
    "----"
   ]
  },
  {
   "cell_type": "markdown",
   "metadata": {},
   "source": [
    "## Question 2: Budget Allocation Problem\n",
    "\n",
    "There are $n$ communities in a city, $C_1, \\ldots, C_k$, with population $P_1, \\ldots, P_k$. \n",
    "The average daily income per capita for each community is given by $I_1, \\ldots, I_k$.\n",
    "The development budget $B$ dollars of the city is to be distributed between these communities following state law\n",
    "which stipulates the following constraints:\n",
    "\n",
    "  - The budget as a whole must be spent (no borrowing or saving allowed).\n",
    "  - The fair share fraction $f_i$ for a community $C_i$ is defined as $\\frac{P_i}{\\sum_{j=1}^k P_j}$.\n",
    "  - No community may receive an allocation that exceeds $1.1 f_i B$ or is lower than $0.9 f_i B$.\n",
    "  - Let $x_j$ be the allocation for community $C_j$. The overall allocation should be progressive to maximize the overall welfare formula given by $ \\sum_{j=1}^n \\frac{P_j}{I_j} x_j $.\n",
    "  \n",
    "\n",
    "Formulate the budget allocation problem as a linear program.\n",
    "\n",
    "Write down the LP for the data below.\n",
    "Use your favorite solver (Excel, GLPSOL, online solver)\n",
    "to solve the problem for the following data:\n",
    "\n",
    "$$\\begin{array}{ccccccc}\n",
    "\\hline\n",
    "ID & C_1 & C_2 & C_3 & C_4 & C_5 \\\\\n",
    "\\hline\n",
    "P_j & 50000 & 120000 & 110000 & 130000& 80000\\\\\n",
    "I_j & 250 & 125 & 200 & 90 & 280 \\\\\n",
    "\\hline\n",
    "\\end{array}$$\n",
    " \n",
    "The total budget in millions is $53$ million.\n"
   ]
  },
  {
   "cell_type": "markdown",
   "metadata": {},
   "source": [
    "### Answer 2 (Expected Length: 6 lines)\n",
    "\n",
    "B is a constant (the budget). Let $x_j$ be the allocation for community $C_j$, and the rest of the variables be the same as the problem statement.  \n",
    "The objective function is: Maximize $ \\sum_{j=1}^n \\frac{P_j}{I_j} x_j $. (We want to maximize the overall welfare formula).   \n",
    "The constraints are as follows: \n",
    "For all $x_i$, $x_i <= 1.1 f_i B$.  \n",
    "For all $x_i$, $x_i >= 0.9 f_i B$.  \n",
    "Each $f_i$ is calculated by $\\frac{P_i}{\\sum_{j=1}^k P_j}$.  \n",
    "$ \\sum_{j=1}^n x_j= B $ (The budget must be wholly spent).  \n",
    "\n",
    "Using an excel spread sheet solver, here are the answers found that maximize the objective value while satisfying all constraints:\n",
    "$x1=4867346.93877551, x2=14169387.755102, x3=10708163.2653061,$   \n",
    "$x4=15467346.9387755, x5=7787755.10204082$.    \n",
    "Overall welfare (maxmium optimal value)=$45032367671$.  \n"
   ]
  },
  {
   "cell_type": "markdown",
   "metadata": {},
   "source": [
    "----"
   ]
  },
  {
   "cell_type": "markdown",
   "metadata": {},
   "source": [
    "## Question 3: 0-1 Integer Linear Programming\n",
    "\n",
    "A 0-1 integer linear program is an optimization problem involving binary variables\n",
    "$x_1, \\ldots, x_n \\in \\{0,1\\}^n$ as follows:\n",
    "\n",
    "$$\\begin{array}{rll}\n",
    "\\max & c_1 x_1 + \\cdots + c_n x_n \\\\\n",
    "\\mathsf{s.t} & a_{11} x_1 + \\cdots + a_{1n} x_n & \\leq b_1 \\\\\n",
    "& \\; \\; \\; \\; \\; \\; \\; \\; \\; \\;  \\ddots & \\\\\n",
    "& a_{m1} x_1  + \\cdots + a_{mn} x_n & \\leq b_m \\\\\n",
    "& x_1, \\ldots, x_n & \\in \\{0,1\\}\\\\\n",
    "\\end{array}$$\n",
    "\n",
    "You may think of it as a linear program but with variables restricted to take on values in the\n",
    "set $\\{0,1\\}$.\n",
    "\n",
    "The 0-1 ILP problem takes as an input (a) description of the problem (variables, objectives and constraints) and\n",
    "(b) limit $L$ and decides whether there exists a solution for the variables satisfying the constraints such that\n",
    "the objective value $\\geq L$.\n",
    "\n",
    "Show that 0-1 ILP problem is NP-Complete. (*Hint* Directly encode a 3-CNF-SAT clause as an inequality).\n",
    "\n"
   ]
  },
  {
   "cell_type": "markdown",
   "metadata": {},
   "source": [
    "### Answer (Expected Length: 10 lines)\n",
    "\n",
    "To show that 0-1 ILP problem is NPC, first we need to show that it is in NP, which means that it must have a polynomial time verifiable certificate that verifies a given solution.  \n",
    "The certificate is the assignment of each variable to a truth value (1 or 0), from which it can be verified in polynomial time that each constraint is satsified and the objective value is $>=L$.   \n",
    "\n",
    "Next, we to prove the 0-1 ILP problem is NPC, we need to show that the known NPC problem, 3-CNF-SAT, is reducable to the 0-1 ILP problem in polynomial time.  \n",
    "\n",
    "For each variable $X_{i}$ in the 3-CNF-SAT problem, create a corresponding $Y_{i}$ variable for the 0-1 ILP problem. \n",
    "Force constraints on each variable, $Y_{i}$, such that $0<=Y_{i}<=1$, forcing a value of 0 or 1. \n",
    "Convert each clause in the original problem to an inequality. If a variable is $¬Y_{i}$, then it becomes $(1-Y_i)$ in the inequality. Add up each of the literals, and set them $>0$. Here's an example:  \n",
    "$(X_{2} V X_{4} V ¬ X_{5})$ in the original problem becomes $Y_{2} + Y_{4} + (1-X_{5}) > 0$.  \n",
    "Subtracting the \"not\" literals from 1 makes them have a bit negation, and the sum will be greater than 0 if any of the terms in a clause is 1, else it will be 0.  \n",
    "Make a linear equation in this way for each clause, then use these as additional constraints for the 0-1 ILP problem.  \n",
    "Graph the original and added constraints along with the $objectiveEquation>=L$ constraint to solve the ILP problem.  \n",
    "There is a solution to the modified ILP (all the constraints are satisfiable, including $objectiveEquation >= L$) iff there's a a boolean solution to the 3-CNF-SAT problem. Also, if the 3-CNF-SAT problem has a boolean solution, it implies there is a solution to the ILP (considering the reverse direction).    \n",
    "\n",
    "This shows that the 3-CNF-SAT is reducable to the 0-1 ILP problem in polynomial time.  The 0-1 ILP problem is thus proven to be NPC.  \n"
   ]
  },
  {
   "cell_type": "markdown",
   "metadata": {},
   "source": [
    "----"
   ]
  },
  {
   "cell_type": "markdown",
   "metadata": {},
   "source": [
    "## Question 4: Independent Set\n",
    "\n",
    "An _independent set_ in a graph $G= (V,E)$ is a set of vertices $I \\subseteq V$ such that each edge in $E$ is incident to at most one vertex in $I$. That is, an independent set is a set of vertices where no two vertices are adjacent.\n",
    "\n",
    "The _$k$-independent set problem_ is to determine if a graph has an independent set of size at least $k$.\n",
    "\n",
    "(A) Show that the $k$-independent set problem is NP-Complete by reducing from the $3$-CNF-SAT problem.\n",
    "\n",
    "(B) Show that the $k$-independent set problem is NP-Complete by reducing from the $k$-clique problem.\n",
    "\n"
   ]
  },
  {
   "cell_type": "markdown",
   "metadata": {},
   "source": [
    "### Answer (Expected Length: 10 lines)\n",
    "\n",
    "First, we must show that the $k$-independent set problem is in NP. This means it must have a polynomial time verifiable certificate that verifies a given solution.  \n",
    "This can be done by verifying that for the K vertices, for each pair there is no edge between them, which can be verified in $\\Theta(N^2)$ time using an adjacency list.  \n",
    "\n",
    "The next requirement to show a problem is NPC is to prove that all other NP problems are polynomial reducible to that problem. It is proven that the $3$-CNF-SAT and K-Clique problem are NPC, so that any problem that is reducible to one of these two NPC problems must be NPC itself by transitivity.  \n",
    "\n",
    "A) We now must reduce the $3$-CNF-SAT problem to the $k$-independent set (KIS) problem in polynomial time.  \n",
    "In the $3$-CNF-SAT problem, let $k$ be the number of clauses. Create a graph with $k$ clusters of vertices, where each vertex represents and is labelled with one of the literals of a clause. Each vertex within each cluster should be connected to the other two vertices in a cluster. A vertex has an edge to another vertex in a different cluster iff the second vertex is the first's negation (that is $L$ and $¬L$).  \n",
    "\n",
    "This graph will have an independent set of size $K$ iff the original $K$ clause CNF was satisfiable. If the CNF is satisfiable and has $K$ clauses, then the graph has an\n",
    "independent set of size $K$, with one vertex from each clause. The reverse is also true: If the graph has an independent set of size $K$ then the $K$ clause CNF was satisfiable. The conversion can be done in polynomial time, and the $3$-CNF-SAT problem is reducable to the KIS problem, proving KIS is NPC. \n",
    "\n",
    "B) We now must reduce the K-Clique problem to the KIS problem in polynomial time.  \n",
    "First, make a compliment of the original graph, $G'$, so that $G'$ has an edge between vertices iff the edge did not exist in the original graph, $G$. This complement graph can be built in polynomial time and represents the problem conversion step.    \n",
    "If there is a clique of size $K$ in the original graph, $G$, it means that all vertices in the clique share an edge with all others in the clique, which means that no pair of these vertices have an edge between them in $G'$, which is the same as an independent set. This means if there is a clique of size $K$ in $G$ then there is an indpendent set of size $K$ in $G'$. The reverse is also true, that if $G'$ has an independent set of size $K$, then the original graph has a clique of size $K$. This proves that the KC problem can be polynomially reduced to the KIS problem, so the KIS problem is NPC.  \n",
    "\n",
    "\n",
    "\n"
   ]
  },
  {
   "cell_type": "markdown",
   "metadata": {},
   "source": [
    "----"
   ]
  },
  {
   "cell_type": "markdown",
   "metadata": {},
   "source": [
    "## Testing your solutions -- Do not edit code beyond this point"
   ]
  },
  {
   "cell_type": "code",
   "execution_count": null,
   "metadata": {},
   "outputs": [],
   "source": []
  }
 ],
 "metadata": {
  "kernelspec": {
   "display_name": "Python 3",
   "language": "python",
   "name": "python3"
  },
  "language_info": {
   "codemirror_mode": {
    "name": "ipython",
    "version": 3
   },
   "file_extension": ".py",
   "mimetype": "text/x-python",
   "name": "python",
   "nbconvert_exporter": "python",
   "pygments_lexer": "ipython3",
   "version": "3.8.6"
  }
 },
 "nbformat": 4,
 "nbformat_minor": 4
}

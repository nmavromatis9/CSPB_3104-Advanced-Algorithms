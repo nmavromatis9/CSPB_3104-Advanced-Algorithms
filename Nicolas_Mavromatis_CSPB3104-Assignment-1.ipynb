{
 "cells": [
  {
   "cell_type": "markdown",
   "metadata": {
    "deletable": false,
    "editable": false,
    "nbgrader": {
     "checksum": "36fbbc00986735486d428ea2568edd2e",
     "grade": false,
     "grade_id": "cell-086e405e17c8a0df",
     "locked": true,
     "schema_version": 1,
     "solution": false
    }
   },
   "source": [
    "# CSCI 3104 Assignment 1:"
   ]
  },
  {
   "cell_type": "markdown",
   "metadata": {
    "deletable": false,
    "editable": false,
    "nbgrader": {
     "checksum": "0080687169369e2f3ed274d2627409bf",
     "grade": false,
     "grade_id": "cell-598c4569950c61cd",
     "locked": true,
     "schema_version": 1,
     "solution": false
    }
   },
   "source": [
    "***\n",
    "# Instructions\n",
    "\n",
    "This assignment is to be completed as a python3 notebook.  When you upload, please upload the completed notebook (ipynb file).\n",
    "\n",
    "The questions  provided  below will ask you to either write code or \n",
    "write answers in the form of markdown.\n",
    "\n",
    " Markdown syntax guide is here: [click here](https://github.com/adam-p/markdown-here/wiki/Markdown-Cheatsheet)\n",
    "\n",
    "Using markdown you can typeset formulae using latex.\n",
    "This way you can write nice readable answers with formulae like thus:\n",
    "\n",
    "The algorithm runs in time $\\Theta\\left(n^{2.1\\log_2(\\log_2( n \\log^*(n)))}\\right)$, \n",
    "where $\\log^*(n)$ is the inverse _Ackerman_ function.\n",
    "\n",
    "__Double click anywhere on this box to find out how your instructor typeset it. Press Shift+Enter to go back.__\n",
    "\n",
    "***"
   ]
  },
  {
   "cell_type": "raw",
   "metadata": {
    "deletable": false,
    "editable": false,
    "nbgrader": {
     "checksum": "e732462e4eeb2d4845707309687bdd53",
     "grade": false,
     "grade_id": "cell-9f589cc259529ba9",
     "locked": true,
     "schema_version": 1,
     "solution": false
    }
   },
   "source": [
    "## Question 1 : Everyday Algorithms.\n",
    "\n",
    "  Write down a ten sentence description of an algorithm that drives an important\n",
    "piece of technology that you encounter in your every day life. \n",
    "Research on the Internet to find out what sort of algorithms can solve the \n",
    "core problem behind the technology and how it works.\n",
    "\n",
    "__Examples:__ \n",
    "> 1. Auto-complete feature when typing text messages on my iphone, \n",
    "> 2. My email service automatically tags dates/times so that I could insert \n",
    "them in my calendar, or \n",
    "> 3. My python IDE automatically takes me to a function's code from a call site."
   ]
  },
  {
   "cell_type": "markdown",
   "metadata": {
    "deletable": false,
    "nbgrader": {
     "checksum": "f915d99606fadd005dcd7e3c92dd6c9b",
     "grade": true,
     "grade_id": "cell-eb8962afb5074af9",
     "locked": false,
     "points": 20,
     "schema_version": 1,
     "solution": true
    }
   },
   "source": [
    "**Algorithm to Start Up Car:**\n",
    "\n",
    "*These are the specific steps to start up a car and get it ready to drive, an important every day algorithm.*\n",
    "\n",
    "0. a. Check the tire pressure once a month, so that each tire should be at about 32 PSI. \n",
    "0. b. Check the oil level and windshield wiper fluid level once each month. Each level should be at the appropriate line, which varies by car model. \n",
    "1. a. Manual lock: Unlock the car by placing the key in the door lock and twisting toward the left.\n",
    "1. b. Remote lock: Press the unlock button on the key dongle. An auditory signal should signal the successful unlock.\n",
    "2. Enter the driver seat (front left), sit down and put on the seat belt tightly. \n",
    "3. Check mirrors so that you have a good view of your surroundings in your side and main mirrors. \n",
    "4. a. Manual ignition: Place the key into the ignition, and turn it toward the right.\n",
    "4. b. Automatic ignition: While possessing the dongle, press the start key. Some cars may require that the break is first pressed in.\n",
    "5. Place the gearstick into the 'D' position to drive forward, or the 'R' position to drive backward. \n",
    "6. Continue to separate driving directions to safely reach the destination. Remember to use the break and accelator pads appropriately.\n",
    "\n",
    "\n",
    "*Here is a general description of a more technical algorithm, in case the more manual algorithm above is not what is expected:*\n",
    "\n",
    "**Google Page Rank:**\n",
    "\n",
    "This is an algorithm that Google uses to rank a website by importance, based on how many external websites link to it. </br>\n",
    "The algorithm ultimately assigns each site a PageRank from 1-10, with 10 being the highest importance. </br>\n",
    "Google uses the PR and relevance of a website in order to determine the order that it appears in within a search.</br>\n",
    "The higher the calculated PR, the higher up the page the result appears in a particular search.</br>\n",
    "PR is determined by how many \"important\" websites are linked to the site of interest, with more links equalling higher PR.</br>\n",
    "Websites with higher traffic or significance (I.E. government websites) have higher importance.</br>\n",
    "Credibility also increases a site's PR. Credibility is partially determined by credibility of the organization providing information.</br>\n",
    "(I.E. NASA has higher credibility than a smaller, lesser known organization).</br>\n",
    "Linear algebra techniques are used to determine the ultimate PR, which affects the order that it appears in a search.</br>\n",
    "However, sites may also pay Google to override PR and appear near the top of a search (labelled \"ads\"). </br>\n",
    "\n",
    "Source: https://www.teachengineering.org/lessons/view/csm-2353-algorithms-everyday-life-lesson\n",
    "\n",
    "\n",
    "\n",
    "\n"
   ]
  },
  {
   "cell_type": "markdown",
   "metadata": {
    "deletable": false,
    "editable": false,
    "nbgrader": {
     "checksum": "bf9b8c7eb79332f10997dc896096fd79",
     "grade": false,
     "grade_id": "cell-067dec7bb19a61b4",
     "locked": true,
     "schema_version": 1,
     "solution": false
    }
   },
   "source": [
    "***\n",
    "## Question 2(a): Insert into a sorted array.\n",
    "\n",
    "Write a python3 function `insert_into(a, j)` that given sorted array `a` and a number `j`,  returns a new array that includes the contents of the original array and the newly inserted element `j`, so that the returned array is also sorted. \n",
    "\n",
    "__You are not allowed to use inbuilt routines in python such as sort. You should also avoid using the list insert method.__\n",
    "\n"
   ]
  },
  {
   "cell_type": "code",
   "execution_count": 2,
   "metadata": {
    "deletable": false,
    "nbgrader": {
     "checksum": "3d60bef7bf0ee6950be63148c8b93516",
     "grade": false,
     "grade_id": "cell-bfae6e2483f225f6",
     "locked": false,
     "schema_version": 1,
     "solution": true
    }
   },
   "outputs": [],
   "source": [
    "# Answer 2(a): IMPLEMENT HERE. Each time you edit, do not forget to type shift+enter\n",
    "def insert_into(a, j):\n",
    "    #uses modified insertion sort.\n",
    "    #add j to end of list, then sort.\n",
    "    a.append(j)\n",
    "    for k in range(1, len(a)):\n",
    "        key=a[k]\n",
    "        #insert a[k] into sorted seq a[0...k-1]\n",
    "        i=k-1\n",
    "        while(i>=0 and a[i]>key):\n",
    "            a[i+1]=a[i]\n",
    "            i=i-1\n",
    "            #i becomes one less than spot that key belongs\n",
    "        a[i+1]=key\n",
    "    #print(a)\n",
    "    \n",
    "    return a\n",
    "            \n",
    "        \n",
    "    raise NotImplementedError()\n",
    "\n",
    "\n",
    "# Press Shift enter when you are done with your code"
   ]
  },
  {
   "cell_type": "markdown",
   "metadata": {
    "deletable": false,
    "editable": false,
    "nbgrader": {
     "checksum": "b8c05e659790069201f563bfd0ad7307",
     "grade": false,
     "grade_id": "cell-92203b41f4912683",
     "locked": true,
     "schema_version": 1,
     "solution": false
    }
   },
   "source": [
    "## Question 2(b): Running time of your insertion routine\n",
    "For an input of size $n$, how much time does your routine take to run in the worst case? You can use big-theta notation $\\Theta$ for your answer."
   ]
  },
  {
   "cell_type": "markdown",
   "metadata": {
    "deletable": false,
    "nbgrader": {
     "checksum": "fd1b95e85f22eb6e6d6a3b70b02c793a",
     "grade": true,
     "grade_id": "cell-e20bd727fd810843",
     "locked": false,
     "points": 20,
     "schema_version": 1,
     "solution": true
    }
   },
   "source": [
    "This implementation works by appending the value to the end of the list, then using insertion sort to sort the final list. </br>\n",
    "Insertion sort sorts a list by repeatedly placing one element at a time into the sorted portion of the list. </br>\n",
    "It first starts at the second index (i=1), moves the element to the correct place in the left side of the list, </br>\n",
    "then moves right one index at a time until the whole list is sorted. </br>\n",
    "\n",
    "**Worst Case: Big($\\Theta$)=$\\Theta$$(N^{2})$, which is quadratic. This represents a bound above and below f(n) using different constants.** </br>\n",
    "\n",
    "We can also consider other cases with other bounding schemes.</br> \n",
    "Worst case: Big(O)=$O(N^{2})$ This occurs if the list is in reverse order (and is an upper bound). Selection sort has two loops that each run a max of N times. </br>\n",
    "In the worst case, the inner loop shifts the entire sub array being considered.\n",
    "\n",
    "Best case: Big($\\Omega$)=$\\Omega(N)$ If all the terms are sorted, the element being considered is only compared to the righmost element of the sorted section. </br>\n",
    "So there are fewer than N total comparisons. This is a lower bound. </br>\n",
    "\n",
    "\n",
    "\n",
    "Sources:https://brilliant.org/wiki/insertion/#:~:text=When%20analyzing%20algorithms%2C%20the%20average,list%20is%20already%20mostly%20sorted.\n",
    "https://en.wikipedia.org/wiki/Insertion_sort\n",
    "\n"
   ]
  },
  {
   "cell_type": "markdown",
   "metadata": {
    "deletable": false,
    "editable": false,
    "nbgrader": {
     "checksum": "06f6f051b3507eb4cda09792fac437ad",
     "grade": false,
     "grade_id": "cell-abd155f85d45b068",
     "locked": true,
     "schema_version": 1,
     "solution": false
    }
   },
   "source": [
    "***\n",
    "## Question 3: Tournaments\n",
    "\n",
    "A tennis tournament has $n$ participants who must play matches in rounds to determine a winner. For instance if $n = 100$, then the first round has $50$ matches, the second round has $25$ matches and so on. If the number of players left in a round is odd, then one lucky player is chosen at random to move to the next round without contest.\n",
    "\n",
    "Do not use asymptotic ($O, \\Omega, \\Theta$) notations in your answer below. Provide exact numbers as much as possible.\n",
    "\n",
    "1. Write down a formula involving $n$ for the total number of rounds played? (*Hint*: You should try some values for $n$, before you attempt to derive a formula ).\n",
    "\n",
    "2. Show that the total number of matches played cannot exceed $n$. (*Hint*: write down a series summation for the total number of matches played and use known facts about summation of geometric series ).\n",
    "\n",
    "3. How many matches does the overall winner need to play in the _best case_? \n",
    "\n",
    "4. How many matches does the overall winner need to play in the _worst case_?\n",
    "\n",
    "5. Assume that every player has a unique hidden talent score so that for any match, the higher talent score is always going to win. \n",
    "Is the winner always guaranteed to be the highest talent score? Is the runner up (i.e, the person who lost to the winner in the final match) always the second highest talent score? If your answer is no, illustrate using a counter-example.\n",
    "\n",
    "6. From the answer in 5. design a scheme to identify the second highest talent score among the $n$ participants. Your scheme may select some players and schedule extra matches. (*Hint*: Look up the term _repechage_ in olympics sports)\n"
   ]
  },
  {
   "cell_type": "markdown",
   "metadata": {
    "deletable": false,
    "nbgrader": {
     "checksum": "7fbeef83ad3de88a6701227521b43bda",
     "grade": true,
     "grade_id": "cell-04cfcc6cb37a48fe",
     "locked": false,
     "points": 40,
     "schema_version": 1,
     "solution": true
    }
   },
   "source": [
    "1. When n=100, 7 rounds are played until just one player remains:\n",
    "  * 100= 50*2\n",
    "  * 50= 25*2\n",
    "  * 25= 12.5*2\n",
    "  * 13= 6.5*2\n",
    "  * 7= 3.5*2\n",
    "  * 4= 2*2\n",
    "  * 2= 1*2\n",
    "  \n",
    "  When n=9, 4 rounds are played:\n",
    "\n",
    " * 9= 4.5*2\n",
    " * 5= 2.5*2\n",
    " * 3= 1.5*2\n",
    " * 2=1*2\n",
    "  \n",
    "This demonstrates a few important patterns. </br>\n",
    "1) Always take the ceil(n/2) for the left hand side of the next round iteration. </br>\n",
    "2) Stop when the final n==2. </br>\n",
    "3) $log_{2}N$ is very close, where $\\log_{2}100$ = 6.64 and $\\log_{2}9$ =3.16 </br>\n",
    "4) **So, the nth term (number of total rounds) is found by the function: $x_{n}$=ceil($\\log_{2}n$)**\n",
    "\n",
    "2. In each round, the number of matches can be calculated from n:\n",
    " * So the number of matches in round 1= n/2,\n",
    " * The number of matches in round 2= n/4,\n",
    " * The number of matches in round 3= n/8...\n",
    " * Such that in each round the number of matches is halved from the previous number of matches.\n",
    " * The number of matches in the final round, f, = 1.\n",
    "\n",
    "From part 1, it is known that the number of total rounds, f(n)=ceil($\\log_{2}n$). </br>\n",
    "The number of matches is then fit by the series: n/2 + n/4 + n/8 ...+ 1 </br>\n",
    "This fits a geometric sequence, where each term after the first is found by multiplying the previous by a fixed, nonzero number.</br>\n",
    "In this case, each term is found by multiplying ceil(previous term) * 1/2. </br>\n",
    "The formula for the geometric series, computing the sum of z terms, AKA the total number of matches, is given by:\n",
    "\n",
    "$\\sum _{k=1}^{z}ar^{k-1}={\\frac {a(1-r^{z})}{1-r}}$.\n",
    "\n",
    "Where: Where a is the first term (n/2), z is the number of terms, AKA total number of rounds $(ceil(log_{2}n))$, and r is the constant that each term is multiplied by (1/2). </br>\n",
    "\n",
    "Plugging in the values, ${\\frac {a(1-r^{z})}{1-r}}$ = $(n/2(1-(1/2)^{log_{2}n}))/(1-(1/2))$ </br>\n",
    "The logarithm rule $ a^{log_{b}c} $ = $c^{log_{b}a} $ can be used to simplify this to:</br>\n",
    "= $(n/2(1-n^{log_{2}(1/2)}))/(1-(1/2))$ = $(n/2(1-n^{-1}))/(1/2))$ </br>\n",
    "= $n*(1-n^{-1})$ = $n-n^{0}$= $n-1$ </br>\n",
    "Therefore, the overall number of matches $= n-1 < n$ , </br> \n",
    "proving that the total number of matches (or the sum of the number of matches in each round) cannot exceed n.\n",
    "\n",
    "3. In the best case, the winner of the tournament plays just one match.</br> \n",
    "If an odd number of players is left at the end of each round, one lucky player may move on without contest.</br>\n",
    "Assume that n=5. In the first round, 2 players face 2 players to decide which 2 pass, and the lucky player moves onto round 2.</br>\n",
    "In the second round, 1 player faces 1 player to decide who passes, and the the lucky player moves onto round 3. </br>\n",
    "The lucky player then just faces one opponent to decide the ultimate winner. </br>\n",
    "\n",
    "4. In the worst case, the number of matches played by the winner is the total number of rounds (z), where the ultimate winner plays in each round. </br>\n",
    "Therefore, the overall winner plays ceil($\\log_{2}n$) matches. </br>\n",
    "\n",
    "5. The winner of the tournament will always be the player with the maximum hidden talent score, because this player will never lose to anyone.</br>\n",
    "However, the runner up (second place) player may not be the one with second highest hidden talent score. </br>\n",
    "This is due to the fact that if there is an odd number of players starting and finishing a round, then a randomly selected player advances to the next round. </br>\n",
    "In this case, a low hidden score player may advance to the final round and lose to the player with the highest hidden score, thus becoming the runner up. </br>\n",
    "Example: Assume There are n=5 players, where each player has a hidden talent score equal to their assigned number (player 1 has score 1, player 5 has score 5)</br>\n",
    "Round 1: 2v3 advances 3, 4v5 advances 5, and player 1 is lucky advancing player. </br>\n",
    "Round 2: 3v5 advances 5, and 1 is lucky player. </br>\n",
    "Round 3: 5v1 advances 5 as ultimate winner, but the runner up, player 1, had the lowest overall hidden talent score. </br>\n",
    "\n",
    "Another thing to consider (if I'm understanding the problem correctly) is if the second highest talent score faces the highest talent score in any round but the final round,</br>\n",
    "then the second highest score will lose before the final round, and thus the runner up will not be the player with the second highest talent score.</br>\n",
    "\n",
    "6. The ultimate runner up may not be the player with the second highest talent score (part 5). </br>\n",
    "To identify the player with the second highest talent score, we need to hold a loser tournament after the normal tournament in which only the losers play. </br>\n",
    "This would function with the original rules in play (random selection of the advancing lucky player in odd rounds). </br>\n",
    "This would eventually select the player with the second highest talent score as the ultimate winner of the loser rounds. </br>\n",
    "This is because the formally second highest score is now the highest score in the losing bracket, such that the player that wins the loser tournament</br>\n",
    "will always have the second highest score overall. This follows the logic from part 5. </br>\n",
    "\n",
    "\n",
    "Sources:https://en.wikipedia.org/wiki/Geometric_progression\n",
    "https://en.wikipedia.org/wiki/Geometric_series#:~:text=In%20general%2C%20a%20geometric%20series,the%20early%20development%20of%20calculus.\n",
    " "
   ]
  },
  {
   "cell_type": "markdown",
   "metadata": {
    "deletable": false,
    "editable": false,
    "nbgrader": {
     "checksum": "748123b5818848ee9f2a9c15be1b0ebf",
     "grade": false,
     "grade_id": "cell-67bf820f43d30c7d",
     "locked": true,
     "schema_version": 1,
     "solution": false
    }
   },
   "source": [
    "***\n",
    "## Autograder for quesion 2(a): Do not edit code below. "
   ]
  },
  {
   "cell_type": "code",
   "execution_count": 3,
   "metadata": {
    "deletable": false,
    "editable": false,
    "nbgrader": {
     "checksum": "4d22bf97981848ddef5f571de1c32e72",
     "grade": true,
     "grade_id": "cell-d4ddaf2aded6b2ff",
     "locked": true,
     "points": 20,
     "schema_version": 1,
     "solution": false
    }
   },
   "outputs": [
    {
     "data": {
      "text/html": [
       "<font color=\"green\"> All tests succeeded! </font>"
      ],
      "text/plain": [
       "<IPython.core.display.HTML object>"
      ]
     },
     "metadata": {},
     "output_type": "display_data"
    }
   ],
   "source": [
    "## DO NOT EDIT TESTING CODE FOR YOUR ANSWER ABOVE\n",
    "# Press shift enter to test your code. Ensure that your code has been saved first by pressing shift+enter on the previous cell.\n",
    "from IPython.core.display import display, HTML\n",
    "def test_insert():\n",
    "    failed = False\n",
    "    test_cases = [ # (Input Array, Inserted Number, Expected Output)\n",
    "             ([1,3,6,8,10], 4 , [1,3,4,6,8,10]),\n",
    "             ([1,1,1,1,3,3,5,5,7,7], 1, [1,1,1,1,1,3,3,5,5,7,7]),\n",
    "             ([-10,9,15,18,35,44], 47, [-10, 9, 15, 18, 35, 44, 47]),\n",
    "             ([], 10, [10]),\n",
    "             ([-10, 9, 10, 20, 35], -20, [-20, -10, 9, 10, 20, 35]),\n",
    "             ([0,0,0,0,0,0], 0, [0,0,0,0,0,0,0])]\n",
    "    for (test_array, j, expected_output) in test_cases:\n",
    "        obtained_output = insert_into(test_array, j)\n",
    "        if obtained_output != expected_output:\n",
    "            s1 = '<font color=\\\"red\\\"> Failed - test case: Inputs: a=' + str(test_array)+ ' j=' + str(j)\n",
    "            s2 = '  <b> Expected Output: </b> ' + str(expected_output) + ' Your code output: ' + str(obtained_output) + ' </font>'\n",
    "            display(HTML(s1+s2))\n",
    "            failed = True\n",
    "            \n",
    "    if failed:\n",
    "        display(HTML('<font color=\"red\"> One or more tests failed. </font>'))\n",
    "    else:\n",
    "        display(HTML('<font color=\"green\"> All tests succeeded! </font>'))\n",
    "test_insert()"
   ]
  },
  {
   "cell_type": "code",
   "execution_count": null,
   "metadata": {},
   "outputs": [],
   "source": []
  }
 ],
 "metadata": {
  "kernelspec": {
   "display_name": "Python 3",
   "language": "python",
   "name": "python3"
  },
  "language_info": {
   "codemirror_mode": {
    "name": "ipython",
    "version": 3
   },
   "file_extension": ".py",
   "mimetype": "text/x-python",
   "name": "python",
   "nbconvert_exporter": "python",
   "pygments_lexer": "ipython3",
   "version": "3.8.6"
  }
 },
 "nbformat": 4,
 "nbformat_minor": 4
}

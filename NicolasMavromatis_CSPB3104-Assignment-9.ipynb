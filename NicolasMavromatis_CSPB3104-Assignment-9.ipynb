{
 "cells": [
  {
   "cell_type": "markdown",
   "metadata": {},
   "source": [
    "# CSPB 3104 Assignment 9\n",
    "## Instructions\n",
    "\n",
    "> This assignment is to be completed and uploaded to \n",
    "moodle as a python3 notebook. \n",
    "\n",
    "> Submission deadlines are posted on moodle. \n",
    "\n",
    "> The questions  provided  below will ask you to either write code or \n",
    "write answers in the form of markdown.\n",
    "\n",
    "> Markdown syntax guide is here: [click here](https://github.com/adam-p/markdown-here/wiki/Markdown-Cheatsheet)\n",
    "\n",
    "> Using markdown you can typeset formulae using latex.\n",
    "\n",
    "> This way you can write nice readable answers with formulae like thus:\n",
    "\n",
    ">> The algorithm runs in time $\\Theta\\left(n^{2.1\\log_2(\\log_2( n \\log^*(n)))}\\right)$, \n",
    "wherein $\\log^*(n)$ is the inverse _Ackerman_ function.\n",
    "\n",
    "__Double click anywhere on this box to find out how your instructor typeset it. Press Shift+Enter to go back. __\n"
   ]
  },
  {
   "cell_type": "markdown",
   "metadata": {},
   "source": [
    "## Question 1: Most Likely Mutation Tree\n",
    "\n",
    "This question is inspired by this research article: *Spada et al. J Clin Microbiol. 2004 Sep; 42(9): 4230–4236.* and this episode of the erstwhile popular TV show Numb3rs https://www.hulu.com/watch/315041 (need a hulu subscription).\n",
    "\n",
    "\n",
    "Viruses have RNA which mutate rapidly. Let us assume that the RNA of a viral species can be written as\n",
    "an $l$ letter string made up of A, C, T and G.  While replicating, a virus can mutate through random changes in \n",
    "$k$ out of these $l$ positions with probability proportional to  $2^{-k^2}$.  \n",
    "\n",
    "We collect viral samples starting from a single individual and after sequencing, \n",
    "we observe $n$ mutants $A_1, \\ldots, A_n$, but we do not know which individual mutated to another nor what the order of these mutations were. We wish to  reconstruct the mutation tree that connects $A_i$ to $A_j$ if $A_i$ mutated into $A_j$ or vice-versa. \n",
    "\n",
    "Assume that $l$ is large enough that the same RNA sequence cannot be obtained through two different sequences of mutations.\n",
    "\n",
    "You are given a weighted undirected graph $G$ whose vertices are the RNA sequences $A_1, \\ldots, A_n$ and there is an edge between any two nodes $(A_i, A_j)$ with weight $2^{-d(i,j)^2}$, where $d(i,j)$ is the the number of differences between  $A_i$ and $A_j$. \n",
    "\n",
    "A spanning tree $T$ of $G$ then represents a possible history of mutations, the likelihood of which is given by the product of the edge weights of $T$.\n",
    "\n",
    "Show how to compute the most likely spanning tree $T$ in this graph.\n"
   ]
  },
  {
   "cell_type": "markdown",
   "metadata": {},
   "source": [
    "#### Answer 1 (Expected Length: 6 lines)\n",
    "\n",
    "Given a weighted, undirected graph, G, \n",
    "Prim's algorithm for finding the MST is more efficient than Kruskal's if the graph is dense, with many more edges than vertices.  \n",
    "Kruskal's algorithm is better for sparsely populated graphs.  \n",
    "Depending on the sparsity of the adjacency matrix, choose one algorithm out of the two.  \n",
    "The MST built on graph G (described above), composed of weighted undirected edges between sequence nodes (Ai...Aj), \n",
    "will be the most likely MST, T, of the graph. \n",
    "This is because the Minimum Spanning Tree, T, is built with the minimum edge weights (corresponding to the most likely mutations, of lowest edge distances).   \n",
    "The product of the edge weights in the MST will be minimized, and will be the most likely history of mutations.  \n",
    "\n",
    "The running time of Kruskal's algorithm is: $\\Theta(ELogE+VLog*V)$.  \n",
    "The running time of Prim's algoritm is:  $\\Theta(VLogV+E)$.  \n"
   ]
  },
  {
   "cell_type": "markdown",
   "metadata": {},
   "source": [
    "### Question 2 (A): Distance Between Clusters\n",
    "\n",
    "Let $G$ be a weighted undirected graph with vertices $V$ and edges $E$. \n",
    "\n",
    "Assume that all edge weights are unique and let $T$ be a MST for this graph.\n",
    "\n",
    "Let us partition the vertices into two clusters $V_1$ and $V_2$. If an edge $e: (u,v)$ satisfies\n",
    "$u \\in V_1$ and $v\\in V_2$, we will call it _partition crossing_. \n",
    "\n",
    "We define the distance between these clusters\n",
    "as the minimum weight among all partition crossing edges of the graph. \n",
    "\n",
    "Show that the minimum weight partition crossing edge must belong to the MST $T$.\n",
    "\n",
    "__Hint:__ Attempt a proof by contradiction."
   ]
  },
  {
   "cell_type": "markdown",
   "metadata": {},
   "source": [
    "### Answer 2(A) ( Expected Length: 6 lines)\n",
    "\n",
    "Proof by contradiction: (adapted from CLRS Theorem 23.1 and proof) \n",
    "\n",
    "A cut is a partition of points in a graph. A light edge crosses the cut, and is of minimal weight. \n",
    "\n",
    "Assume the min-weight, partition crossing edge, AKA light edge, e(u,v) is not in the MST.  \n",
    "\n",
    "Since the MST spans the graph, there must be some simple path, P, \n",
    "connecting u and v in the MST (a path that consists of edges already in the MST).   \n",
    "The path must connect the partitions, V1 and V2 at least once since u is in partition V1 and v is in partition V2.  \n",
    "\n",
    "Let E2(x,y) be an edge in P that crosses the cut. \n",
    "We assume the weight of E2 must be larger than that of e, since e is a light edge (of minimal weight) connecting V1 and V2.   \n",
    "Now, insert e into the graph. \n",
    "This makes a cycle that includes both e and E2. This is no longer a spanning tree.  \n",
    "Remove E2 from the graph to remove the cycle and form a MST.  \n",
    "\n",
    "Since the weight of e is less than that of E2, the resulting spanning tree has a smaller weight.  \n",
    "This is a contradiction and thus e must have been in the original MST.  \n",
    "\n"
   ]
  },
  {
   "cell_type": "markdown",
   "metadata": {},
   "source": [
    "## Question 2 (B) : Distance Between Point Clusters\n",
    "\n",
    "Let $\\mathcal{Q}:\\ \\{ (x_1,y_1), \\ldots, (x_n, y_n)\\}$ be the coordinates of $n$ points on a plane. Given a partition of $\\mathcal{Q}$ into two clusters $\\mathcal{Q}_1$ and $\\mathcal{Q}_2$, the distance between these clusters is defined as the smallest among the pairwise distances taking one point in $\\mathcal{Q}_1$ and one in $\\mathcal{Q}_2$:\n",
    " \n",
    " $$d(\\mathcal{Q}_1, \\mathcal{Q}_2) = \\min_{ (x_i, y_i) \\in \\mathcal{Q}_1, (x_j, y_j) \\in \\mathcal{Q}_2}\\ \\sqrt{(y_j-y_i)^2 + (x_j - x_i)^2} \\,.$$\n",
    "\n",
    "Given such a partition of $\\mathcal{Q}$, write an efficient algorithm to calculate the distance between them. In particular, we would like you to use the idea from 2(A) for this task. Also, what is the complexity of your method?\n"
   ]
  },
  {
   "cell_type": "markdown",
   "metadata": {},
   "source": [
    "### Answer 2 (B) (Expected Length: 8 lines)\n",
    "\n",
    "Q1 and Q2 form two partitions of points, and we want to find the minimum distance light edge to connect them.  \n",
    "First, find the weight of all the edges that connect Q1 to Q2, calculating the edge weight of point $(xi, yi)$ to $(xj, yj)$ as:  \n",
    "$e.weight=\\sqrt{(y_j-y_i)^2 + (x_j - x_i)^2} \\,.$\n",
    "The maximum number of edges in a bipartite graph occurs when each partition has N/2 edges, and is $\\Theta(N^2)$.  \n",
    "Add these weights to a list.\n",
    "After the list is fully populated with all points, use the buildMinHeap() operation, with complexity $\\Theta(N)$.  \n",
    "\n",
    "Return the smallest edge weight from the min heap, which can be done in constant time.  \n",
    "This smallest edge weight will be the minimum distance between Q1 and Q2.  \n",
    "\n",
    "The set of N pairs of points that connect Q1 and Q2 can be found in $\\Theta(|V|+|E|)$ (linear) time, where V is the number of all points, \n",
    "and E is the connection between points in disjoint sets (Q1 and Q2).  \n",
    "The weights of the N pairs of edges can be found in $\\Theta(N^2)$ time.  \n",
    "Build min heap can be done in $\\Theta(N)$ time. \n",
    "\n",
    "The overall complexity is then $\\Theta(N^2 + N + (|V|+|E|))$ which reduces to just $Theta(N^2)$. \n",
    "\n"
   ]
  },
  {
   "cell_type": "markdown",
   "metadata": {},
   "source": [
    "### Question 2(C): Finding maximally separated clusters\n",
    "\n",
    "Now you are given $\\mathcal{Q}$ as above ($n$ points scattered in the plane), but without a partition.\n",
    "Use the idea from 2(B) to partition the set $\\mathcal{Q}$ into maximally separated clusters $\\mathcal{Q}_1$ and $\\mathcal{Q}_2$.  Ie, find $\\mathcal{Q}_1$ and $\\mathcal{Q}_2$ such that\n",
    "$d(\\mathcal{Q}_1, \\mathcal{Q}_2)$ is maximized.\n",
    "\n"
   ]
  },
  {
   "cell_type": "markdown",
   "metadata": {},
   "source": [
    "### Answer 2(C) (Expected Size: 4 lines)\n",
    "\n",
    "This algorithm is similar to 2b), but needs to create two disjoint sets of points, Q1 and Q2,\n",
    "such that a single point that connects the two partitions will be maximally separated (or have a maximum min distance between them).     \n",
    "First, find the edge weights between all pairs of points as \n",
    "$e.weight=\\sqrt{(y_j-y_i)^2 + (x_j - x_i)^2} $, where the max number of edges is still $\\Theta(N^2)$. \n",
    "\n",
    "Append these edges to a list. After all edges are appended, make a max heap by calling BuildMaxHeap().  \n",
    "Return this max distance edge. The maximum weight distance that connects any two points, p1 and p2, is found.  \n",
    "Simply make sure p1 and p2 are in different clusters, Q1 and Q2. This will make the minimum distance between any 2 disjoint points (1 in Q, 1 in Q2) maximized.  \n",
    "The other n-2 points cannot be split up into the two cluster groups.  \n",
    "If they were, then the distance between clusters would no longer be a maximum, as any 2 points are closer together than p1 and p2.   \n",
    "The solution is to place the other n-2 points in one cluster (say Q1).   \n",
    "This can be done, as in 2B), in $\\Theta(N^2)$ time.  \n",
    "\n",
    "\n"
   ]
  },
  {
   "cell_type": "markdown",
   "metadata": {},
   "source": [
    "## Question 3:  Circular dependencies\n",
    "\n",
    "Jane Programmer (of the dreaded dynamic programming assignment) has been reviewing her school's course catalog.  Classes in her department are organized into 8 divisions -- PBNJ-1000 through PBNJ-8999, with each division more difficult than the last.  But Jane has noticed some issues -- some upper division classes have lower division prerequisites, but the opposite is true as well.  In fact, her current course, PBNJ-3104, requires PBNJ-2400 and PBNJ-2400 requires PBNJ-1300, but PBNJ-1300 requires PBNJ-3104! \n",
    "\n",
    "She wants to report these circular dependencies to the dean of the department by finding two classes which depend on each other and have the largest difference in class number.  In the example above, PBNJ-3104 and PBNJ-1300 depend on each other and have a difference of 3104 - 1300 = 1804.\n",
    "\n",
    "Given a list of classes and their prerequisites, describe an algorithm that will help Jane find the pair of classes with maximum difference between their class numbers.\n",
    "\n",
    "What is the running time of your algorithm in terms of number of classes and prereqs?\n",
    "\n",
    "__HINT:__ Your algorithm should involve the strongly connected components of a graph."
   ]
  },
  {
   "cell_type": "markdown",
   "metadata": {},
   "source": [
    "### Answer 3  (Expected Length: 5 lines) \n",
    "Classes that depend on one another will be a part of the same Maximally Strongly Connected Component (MSCC).\n",
    "By definition, if two points belong to the same MSCC, they are a part of a cycle.  \n",
    "First, form an adjacency list, where each vertex represents a class number, and a directed edge from class 1 to 2 means 2 depends on 1.  \n",
    "From this information, build a directed graph, G.    \n",
    "This graph can be built in $\\Theta(V+E)$.  \n",
    "\n",
    "To find all MSCCs, First do a DFS on the original graph, G.  \n",
    "Topologically sort the points by desending finishing times. These two steps can be done in combined $\\Theta(V+E)$.  \n",
    "Next, iterate through the adjacency list, and reverse all the edges. Store this as a separate adjacency list,  \n",
    "and create an inverted graph, G2 from this.  (This can be done in $\\Theta(V+E)$).  \n",
    "Next, run a DFS on G2, starting from the node with the largest finishing time first, where DFS order is based on descending finish times.  \n",
    "If a node finishes, remove it from the list. This is also done in $\\Theta(V+E)$.  \n",
    "This will create multiple sets consisting of multiple MSCCs.  \n",
    "Within each MSCC set, record the highest and lowest class number, and subtract the lowest from the highest.  \n",
    "The greatest difference among all the MSCCs will be the pair with the greatest difference in class numbers that form a dependency.  \n",
    "\n",
    "Overall complexity is $\\Theta(Classes+Prereqs)$ which is equivalent to $\\Theta(V+E)$.  \n",
    "\n",
    "\n",
    "\n"
   ]
  },
  {
   "cell_type": "markdown",
   "metadata": {},
   "source": [
    "## Testing your solutions -- Do not edit code beyond this point"
   ]
  },
  {
   "cell_type": "code",
   "execution_count": null,
   "metadata": {},
   "outputs": [],
   "source": []
  }
 ],
 "metadata": {
  "kernelspec": {
   "display_name": "Python 3",
   "language": "python",
   "name": "python3"
  },
  "language_info": {
   "codemirror_mode": {
    "name": "ipython",
    "version": 3
   },
   "file_extension": ".py",
   "mimetype": "text/x-python",
   "name": "python",
   "nbconvert_exporter": "python",
   "pygments_lexer": "ipython3",
   "version": "3.8.6"
  }
 },
 "nbformat": 4,
 "nbformat_minor": 4
}

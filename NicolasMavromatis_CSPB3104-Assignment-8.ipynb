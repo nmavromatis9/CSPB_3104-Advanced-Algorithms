{
 "cells": [
  {
   "cell_type": "markdown",
   "metadata": {
    "deletable": false,
    "editable": false,
    "nbgrader": {
     "checksum": "0e912d91fc43af4de0293c408025a668",
     "grade": false,
     "grade_id": "cell-127b1a833cb3b365",
     "locked": true,
     "schema_version": 1,
     "solution": false
    }
   },
   "source": [
    "# CSPB 3104 Assignment 8: Problem Set\n",
    "## Instructions\n",
    "\n",
    "> This assignment is to be completed and uploaded to \n",
    "moodle as a python3 notebook. \n",
    "\n",
    "> Submission deadlines are posted on moodle. \n",
    "\n",
    "> The questions  provided  below will ask you to either write code or \n",
    "write answers in the form of markdown.\n",
    "\n",
    "> Markdown syntax guide is here: [click here](https://github.com/adam-p/markdown-here/wiki/Markdown-Cheatsheet)\n",
    "\n",
    "> Using markdown you can typeset formulae using latex.\n",
    "\n",
    "> This way you can write nice readable answers with formulae like thus:\n",
    "\n",
    ">> The algorithm runs in time $\\Theta\\left(n^{2.1\\log_2(\\log_2( n \\log^*(n)))}\\right)$, \n",
    "wherein $\\log^*(n)$ is the inverse _Ackerman_ function.\n",
    "\n",
    "__Double click anywhere on this box to find out how your instructor typeset it. Press Shift+Enter to go back.__\n"
   ]
  },
  {
   "cell_type": "markdown",
   "metadata": {
    "deletable": false,
    "editable": false,
    "nbgrader": {
     "checksum": "bec909e672e3976357fa513c80c7c64a",
     "grade": false,
     "grade_id": "cell-b34e71ff2fc2e751",
     "locked": true,
     "schema_version": 1,
     "solution": false
    }
   },
   "source": [
    "----"
   ]
  },
  {
   "cell_type": "markdown",
   "metadata": {
    "deletable": false,
    "editable": false,
    "nbgrader": {
     "checksum": "27ae8cb5796bb77cc365e4e382b8019b",
     "grade": false,
     "grade_id": "cell-1945cd477b54f85c",
     "locked": true,
     "schema_version": 1,
     "solution": false
    }
   },
   "source": [
    "## Question 1: Shortest Cycle Involving a Given Node.\n",
    "\n",
    "You are given a directed graph $G: (V, E)$ using an adjacency list representation and a vertex (node) $u$ of the graph.\n",
    "Write an algorithm to perform the following tasks:\n",
    "\n",
    "__1(A)__ Write an algorithm that decides (true/false) whether the vertex $u$ belongs to a cycle.\n",
    "\n",
    "What is the complexity for your algorithm in terms of the number of vertices $|V|$ and the number of edges $|E|$?\n",
    "\n",
    "Note: Throughout this assignment you may describe your algorithms using words and definitely use algorithms that you have already learned in class. A brief description will do.\n"
   ]
  },
  {
   "cell_type": "markdown",
   "metadata": {
    "deletable": false,
    "nbgrader": {
     "checksum": "0cf6dd299d41db50d3c7e78e3bb2fe2f",
     "grade": true,
     "grade_id": "cell-f62177827f9dd187",
     "locked": false,
     "points": 15,
     "schema_version": 1,
     "solution": true
    }
   },
   "source": [
    "A vertex, u belongs to a cycle iff a DFS rooted at u has a back-edge adjacent to u. \n",
    "That is, there exists an edge from the descendant of u that connects back to u.   \n",
    "\n",
    "Considering the edge (u,v) with discovery time d and finish time f:\n",
    "\n",
    "1. Do a DFS starting from u, and check if a back edge exists to u by noting start and finish times.\n",
    "-That is, edge (u,v) is a back edge iff v.d<u.d<u.f<v.f\n",
    "\n",
    "2. Do a DFS starting from v (or all edges reachable from u), check if a back edge exists to v by noting start and finish times.\n",
    "-That is, edge (v,u) is a back edge iff u.d<v.d<v.f<u.f  \n",
    "\n",
    "For directed graphs, it is important to keep a stack for vertices being visited. \n",
    "During DFS visits, keep track of the visited vertices in a recursion stack.  \n",
    "If a vertex (u) is encountered that is already present in the recursion stack, then a cycle exists.  \n",
    "\n",
    "If both conditions are found to be true, then vertex u belongs to a cycle. Return True.  \n",
    "Else, return False.  \n",
    "\n",
    "The complexity of this algorithm follows from DFS, and is $\\Theta(|V|+|E|)$, where V is the number of vertices and E is the number of edges. "
   ]
  },
  {
   "cell_type": "markdown",
   "metadata": {
    "deletable": false,
    "editable": false,
    "nbgrader": {
     "checksum": "886110138aee0e57218dd5b609150262",
     "grade": false,
     "grade_id": "cell-62c105704e7ed5fb",
     "locked": true,
     "schema_version": 1,
     "solution": false
    }
   },
   "source": [
    "__1(B)__ Write an algorithm which prints the smallest length cycle involving the vertex $u$.\n",
    "\n",
    "What is the complexity for your algorithm in terms of the number of vertices $|V|$ and the number of edges $|E|$?\n"
   ]
  },
  {
   "cell_type": "markdown",
   "metadata": {
    "deletable": false,
    "nbgrader": {
     "checksum": "819b4c2261a0b0f3d19d8829a5efa46c",
     "grade": true,
     "grade_id": "cell-1c7b2a45df2ec8ca",
     "locked": false,
     "points": 15,
     "schema_version": 1,
     "solution": true
    }
   },
   "source": [
    "We can use Floyd-Warshall's algorithm to definitively find all pairs shortest distances, but this is expensive.  \n",
    "We modify the CLRS algorithm in this way:\n",
    "Initialize $distance[u][V]$ to Infinity, and $distance[u][u]$ to Infinity.  \n",
    "V is any other vertex in the graph besides u.  \n",
    "We want to find the shortest cycle (from u back to u), so we modify the algorithm and set $dist[u][u] = Infinity$ instead of 0,  \n",
    "which allows us to find the shortest path from u to u (cycle).  \n",
    "\n",
    "After the algorithm runs, we will have the value for $dist[u][u]$, which will be the shortest cycle involving vertex u.  \n",
    "The running time of Floyd-Warshall is $\\Theta({V^3})$. "
   ]
  },
  {
   "cell_type": "markdown",
   "metadata": {
    "deletable": false,
    "editable": false,
    "nbgrader": {
     "checksum": "b4154440aa7853b85560ef2a595a8212",
     "grade": false,
     "grade_id": "cell-a40c85c43d85c203",
     "locked": true,
     "schema_version": 1,
     "solution": false
    }
   },
   "source": [
    "----"
   ]
  },
  {
   "cell_type": "markdown",
   "metadata": {
    "deletable": false,
    "editable": false,
    "nbgrader": {
     "checksum": "5094817e04e8fc96af1a6acc77207723",
     "grade": false,
     "grade_id": "cell-5b55e83496f8700c",
     "locked": true,
     "schema_version": 1,
     "solution": false
    }
   },
   "source": [
    "## Question 2: Tracing an Epidemic\n",
    "\n",
    "An email with a malicious attachment has evaded the antivirus software of company X.\n",
    "We know that the CEO's computer was infected during a business trip last month. Since then,investigators have \n",
    "been trying to determine whose mailboxes could be infected. For an employee's mailbox to be infected, he or she must have received\n",
    "and read  an email sent by an already affected employee. \n",
    "\n",
    "Starting from the time $0$ denoting when the CEO's mailbox was first infected, investigators have \"metadata\" for all\n",
    "the emails from all employees in the form\n",
    "\n",
    "$(P_i, P_j, t_k, t_l)$ meaning that employee $P_i$ sent an email at time $t_k$ to employee $P_j$, and $P_j$ opened the email at\n",
    "time $t_l > t_k$.  We assume that $P_j$'s mailbox is infected instantaneously at time $t_l$ if $P_i$'s mailbox was infected before time $t_k$. \n",
    "\n",
    "You are given a collection of email records in the form given above, and  you know that person $P_0$ is the CEO who was infected at time $t = 0$.\n",
    "\n",
    "we ask if a given person of interest $P_j$ could have been infected at a given time of interest $t = T$.\n",
    "\n",
    "__2(A)__ Write an algorithm that, given a person $P_j$ and time $T$, determines if $P_j$'s mailbox was infected before or at time $T$. What is the worst case complexity of your algorithm in terms of the number of persons $|P|$,  and the number of emails sent $|E|$.\n",
    "\n",
    "**Hint** You need to first make a graph that represents the possible flow of the \"infection\" through emails. It is easier to make a complicated graph (in this case, one where each vertex represents more than just a person) and then run a simple graph algorithm (one of the vanilla algorithms we learned this week, ie BFS/DFS/Topological sort) rather than making a simple graph and running a complicated ad-hoc algorithm on it (If your algorithm requires table lookups or passing on metadata specific to the problem at hand, it's probably too complicated).  "
   ]
  },
  {
   "cell_type": "markdown",
   "metadata": {
    "deletable": false,
    "nbgrader": {
     "checksum": "7dc1b3d1657885260248e1aac7806a94",
     "grade": true,
     "grade_id": "cell-ca4da08b8011560d",
     "locked": false,
     "points": 15,
     "schema_version": 1,
     "solution": true
    }
   },
   "source": [
    "Each node represents an employee, $P_i$. Each node has attributes,  \n",
    "$P_i$=employee designation (to differentiate nodes).     \n",
    "parent=parent of current node (previous sender).  \n",
    "visited=false  \n",
    "infectionTime=inf  \n",
    "A=adjaceny list of node $P_i$, which may include $P_j$ and other nodes.   \n",
    "-This list contains information for the sender $P_i$, for each receiver, and corresponding sent ($T_k$) and opened ($T_l$) times.      \n",
    "\n",
    "First, populate the adjacency list of each node, from metadata infection information like $(P_i, P_j, t_k, t_l)$.  \n",
    "The adjacency list for a vertex will then contain all of the emails (infected or not) that vertex sent, each sent time ($t_k$),     \n",
    "receiver ($P_j$), and the time ($t_l$) that each was opened by each receiver.  \n",
    "Note that, for $P_j$ to be placed in the adjacency list of $P_i$,  $t_l>t_k$ so that employee $P_j$ opened the email after it was sent by $P_i$.   \n",
    "Also, here $P_j$ is reachable from $P_i$, but not viceversa, so that $P_i$ should not be placed in the adjacency list of $P_j$ (making a directed graph).  \n",
    "Next, from this adjacency list, create a directed graph that follows the flow of emails through employees.  \n",
    "An arrow from person one to person two means the first person sent the possibly infected email to the second, after which the second person opened it.   \n",
    "\n",
    "Next, run a BFS search starting from the first infected person, which in this example is the CEO, $P_0$. \n",
    "Set $P_0$.visited=true, $P_0$.parent=NIL, and $P_0$.infectionTime=0.  \n",
    "For all unvisited adjacent nodes from the currently visited node, enqueue them for the BFS to continue.  \n",
    "Continue with the BFS search, which accesses adjacency lists in a Queue structure, so that the search explores all nodes at a given level before proceeding.   \n",
    "Each time a node is first visited, visted is set to true, and its parent is recorded (according to the BFS algorithm).  \n",
    "Update the infectionTime to the time that the current node opened the email from the parent (the corresponding $t_l$).  \n",
    "This information is accessed from the adjacency list of the parent node, or $p_j.parent.A.p_j.t_l$.    \n",
    "\n",
    "\n",
    "To determine if a node, $P_j$, was infected before or after time T, you must access attributes of $P_j$ after the BFS search has completed,  \n",
    "and compare $P_j.infectionTime$ to T.  \n",
    "\n",
    "If time $T<=infectionTime$, then it means $P_j$ was infected before time T, and was reachable via the infection graph. \n",
    "\n",
    "Else, if node $P_j$ was not reachable via the infection path, infectionTime will still be infinity,  \n",
    "or if the node was reachable, but $T>infectionTime$, either of the last two conditions means that $P_j$ could not have been infected at time T.      \n",
    "\n",
    "This follows closely from BFS, with an overall complexity of $\\Theta(|P|+|E|)$.  \n",
    "\n",
    "\n"
   ]
  },
  {
   "cell_type": "markdown",
   "metadata": {
    "deletable": false,
    "editable": false,
    "nbgrader": {
     "checksum": "44ca5f2c62e15d7e23c315161b8c5c16",
     "grade": false,
     "grade_id": "cell-ea8e4613fd3a0ecc",
     "locked": true,
     "schema_version": 1,
     "solution": false
    }
   },
   "source": [
    "__2(B)__ Write an algorithm that prints out each person who is infected in increasing order of the times in which they\n",
    "first got infected.\n"
   ]
  },
  {
   "cell_type": "markdown",
   "metadata": {
    "deletable": false,
    "nbgrader": {
     "checksum": "7ee04073478778baf66d029d0575febf",
     "grade": true,
     "grade_id": "cell-e854214ca7571bd4",
     "locked": false,
     "points": 15,
     "schema_version": 1,
     "solution": true
    }
   },
   "source": [
    "Time=0 is a universal variable used to update start and finish times.  \n",
    "Each node represents an employee, $P_i$. Each node has attributes,  \n",
    "$P_i$=employee designation (to differentiate nodes).        \n",
    "parent=parent of current node (previous sender).  \n",
    "visited=false  \n",
    "A=adjaceny list of node $P_i$, which may include $P_j$ and other nodes.   \n",
    "-This list contains information for the sender ($P_i$), for each receiver, and corresponding sent ($T_k$) and opened ($T_l$) times.  \n",
    "start=start time in DFS algorithm.    \n",
    "finish=finish time in DFS algorithm.    \n",
    "\n",
    "Create a directed graph of infection, using the same graph as was created in 2A).    \n",
    "Next, run a DFSVist search starting from the first infected person, which in this example is the CEO, $P_0$. \n",
    "Set $P_0$.visited=true, and $P_0$.parent=NIL. Set $P_0$.start=time, then increment time.       \n",
    "Continue with the DFSVisit search, which accesses adjacency lists in a Stack structure, so that the search goes as deep as possible before backtracking.   \n",
    "Each time a node is first visited, visted is set to true, and its parent is recorded (according to the DFS algorithm).  \n",
    "Set node.start=time, and increment time. When all of a node's adjacent neighbors have been visited, set node.finish=time, increment time.  \n",
    "\n",
    "As DFSVist runs, when a node receives a finish time, place the node at the head of a list.  \n",
    "After DFSVisit is finished, the list will ultimately be sorted according to finish time in descending order.   \n",
    "A higher finishing time means the person had a lower original infection time.  This means that the list will be sorted by ascending infection time.  \n",
    "Simply print the list in order to output each person who is infected in increasing order of the times in which they first got infected.  \n",
    "\n",
    "This follows closely from DFS doing a Topological sort, with an overall complexity of $\\Theta(|P|+|E|)$.  "
   ]
  },
  {
   "cell_type": "markdown",
   "metadata": {
    "deletable": false,
    "editable": false,
    "nbgrader": {
     "checksum": "5463ccc822ea257abab616b1ed295b3d",
     "grade": false,
     "grade_id": "cell-bbbaebd54182a91b",
     "locked": true,
     "schema_version": 1,
     "solution": false
    }
   },
   "source": [
    "----"
   ]
  },
  {
   "cell_type": "markdown",
   "metadata": {
    "deletable": false,
    "editable": false,
    "nbgrader": {
     "checksum": "1c292ea1a4ed3fab4f484d8cb4fdcd5b",
     "grade": false,
     "grade_id": "cell-5476b9fe46e69f6b",
     "locked": true,
     "schema_version": 1,
     "solution": false
    }
   },
   "source": [
    "## Question 3: Testing Moth Age Expert\n",
    "\n",
    "A person claims to have spent his life studying the emperor gum moth  *Opodiphthera eucalypti*. \n",
    "Given two moth samples, he claims to tell us which one is the older. Of course, \n",
    "we ourselves are no experts and they all in fact look the same to us.\n",
    "\n",
    "\n",
    "We test the person as follows: (a) collect a large number $n$ of e.g. moth specimen; (b) randomly\n",
    "select $m$ different pairs from our collection and have the person tell us which one is older; \n",
    "(c) record their answers and analyze them to see if they are _consistent_\n",
    "\n",
    "Write an algorithm to detect if the \"expert\" opinions are _consistent_. \n",
    "\n",
    "\n",
    "**Hint:** We have refrained from discussing what consistency means in this case. But can provide you an example as a hint.\n",
    "\n",
    "__Example__ \n",
    "\n",
    "Suppose $n= 4$ and the expert says that\n",
    "\n",
    "Specimen \\# $1$ is older than $2$, $3$ is older than $4$, $4$ is older than $2$ and $2$ is older\n",
    "than $3$.\n",
    "\n",
    "The expert's opinion is clearly *inconsistent*.\n",
    "\n",
    "Suppose $n=4$ and the expert says that\n",
    "\n",
    "Specimen \\# $1$ is older than $2$, $3$ is older than $4$ and $4$ is older than $1$. The\n",
    "expert's answer is *consistent*.\n",
    "\n"
   ]
  },
  {
   "cell_type": "markdown",
   "metadata": {
    "deletable": false,
    "nbgrader": {
     "checksum": "838f173066756cd41eafb0e4fbfcda57",
     "grade": true,
     "grade_id": "cell-0ae64f4d37077c7a",
     "locked": false,
     "points": 20,
     "schema_version": 1,
     "solution": true
    }
   },
   "source": [
    "An opinion is consistent if the set of inequalities are each consistent with one another.  \n",
    "\n",
    "The first example is not consistent. If 1>2, 3>4, 4>2, and 2>3, \n",
    "then by the transitive property of inequalities, 1>2>3>4, but this is inconsistent because it was given that 2<4.  \n",
    "\n",
    "In the second example, 1>2, 3>4, and 4>1.  This means by the transitive property, that  \n",
    "2<1<4<3. This is consistent with the m comparisons given.  \n",
    "\n",
    "First, create a nxn matrix, A. Iterate over the m comparisons, and store the result as $A[i][j]=1$ if $i>j$, or $=0$ if $i<j$.   \n",
    "This will also by extension populate the values of $A[j][i]$, which should be the opposite of $A[i][j]$.    \n",
    "Next, create a large transitive inequality from the m comparisons.   \n",
    "Fill in the table once more (possibly changing previous cell values) by individually considering all pairs within the large, m value (transitive) inequality.  \n",
    "\n",
    "One row should sum to m, and this moth number, L, should be older than all the other moths.  \n",
    "If the values of the sum of each row is taken, placed in a list and sorted,  \n",
    "then the list should be continuous, having each value from 0 to m. This means that the case is consistent.  \n",
    "\n",
    "If, however, the values are not consistent, then the list will not have continuous values from 0 to m, \n",
    "and will instead have repeated and/or omitted values. \n",
    "\n",
    "In the consistent example (above), The sums of the rows are 1, 0, 3, and 2, which when sorted form a continuous list from 0 to m, (0,1,2,3).   \n",
    "This means that the L moth was specimen 3, which was older than the rest.  \n",
    "\n",
    "In the insconsistent example, the sums of the rows when sorted do not form a continuous list from 0 to 4. \n"
   ]
  },
  {
   "cell_type": "markdown",
   "metadata": {
    "deletable": false,
    "editable": false,
    "nbgrader": {
     "checksum": "971c10d1b1e963ad625846abddc60f97",
     "grade": false,
     "grade_id": "cell-4e1b94d22bdd769d",
     "locked": true,
     "schema_version": 1,
     "solution": false
    }
   },
   "source": [
    "----"
   ]
  },
  {
   "cell_type": "markdown",
   "metadata": {
    "deletable": false,
    "editable": false,
    "nbgrader": {
     "checksum": "9ec4d44f30e520be55507d66b8c1e5d0",
     "grade": false,
     "grade_id": "cell-73a95ac75b7272e1",
     "locked": true,
     "schema_version": 1,
     "solution": false
    }
   },
   "source": [
    "## Question 4: Testing if an undirected graph is acyclic\n",
    "\n",
    "You are given a strongly connected, undirected graph $G$ with $n$ vertices as an adjacency list. Write an algorithm to check if $G$ has a cycle that runs in time $\\Theta(n)$.\n",
    "\n",
    "*Hint* A connected, undirected acyclic graph is a tree. Since you are already given that $G$ is connected, you are just checking if $G$ is a tree. How many edges would a tree have?\n"
   ]
  },
  {
   "cell_type": "markdown",
   "metadata": {
    "deletable": false,
    "nbgrader": {
     "checksum": "ff16477da1925d3c9c70c0b5b4234ae7",
     "grade": true,
     "grade_id": "cell-68cb53d23a2a9ba5",
     "locked": false,
     "points": 20,
     "schema_version": 1,
     "solution": true
    }
   },
   "source": [
    "Connected acyclic undirected graphs are trees. A connected graph G: (V,E) is a tree iff |E|=|V|-1. \n",
    "That is, the numEdges=numVertices-1.  \n",
    "Here, n is known before hand as the number of vertices (|v|).  \n",
    "The algorithm is to iterate over each vertex in the adjaceny list, keeping a counter for the number of edges that exist, e.    \n",
    "Each time a new edge is encountered, e is incremented and added to a map lookup table if it is a new edge.   \n",
    "This can be done in linear time, or $\\Theta(|V|+|E|)$.  \n",
    "If |e|=|v|-1, then it is a tree. Else, it is not a tree.  "
   ]
  },
  {
   "cell_type": "code",
   "execution_count": null,
   "metadata": {},
   "outputs": [],
   "source": []
  }
 ],
 "metadata": {
  "kernelspec": {
   "display_name": "Python 3",
   "language": "python",
   "name": "python3"
  },
  "language_info": {
   "codemirror_mode": {
    "name": "ipython",
    "version": 3
   },
   "file_extension": ".py",
   "mimetype": "text/x-python",
   "name": "python",
   "nbconvert_exporter": "python",
   "pygments_lexer": "ipython3",
   "version": "3.8.6"
  }
 },
 "nbformat": 4,
 "nbformat_minor": 4
}

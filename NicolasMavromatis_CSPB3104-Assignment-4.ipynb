{
 "cells": [
  {
   "cell_type": "markdown",
   "metadata": {
    "deletable": false,
    "editable": false,
    "nbgrader": {
     "checksum": "6f67ee2b1e65e1f08882d5c311a652b5",
     "grade": false,
     "grade_id": "cell-cc92243d53530a68",
     "locked": true,
     "schema_version": 1,
     "solution": false
    }
   },
   "source": [
    "# CSPB 3104 Assignment 4:"
   ]
  },
  {
   "cell_type": "markdown",
   "metadata": {
    "deletable": false,
    "editable": false,
    "nbgrader": {
     "checksum": "393de84110c62844ccd1caec4398ed3c",
     "grade": false,
     "grade_id": "cell-d39a5349c12a82ad",
     "locked": true,
     "schema_version": 1,
     "solution": false
    }
   },
   "source": [
    "***\n",
    "# Instructions\n",
    "\n",
    "This assignment is to be completed as a python3 notebook.  When you upload, please upload the completed notebook (ipynb file).\n",
    "\n",
    "The questions  provided  below will ask you to either write code or \n",
    "write answers in the form of markdown.\n",
    "\n",
    " Markdown syntax guide is here: [click here](https://github.com/adam-p/markdown-here/wiki/Markdown-Cheatsheet)\n",
    "\n",
    "Using markdown you can typeset formulae using latex.\n",
    "This way you can write nice readable answers with formulae like thus:\n",
    "\n",
    "The algorithm runs in time $\\Theta\\left(n^{2.1\\log_2(\\log_2( n \\log^*(n)))}\\right)$, \n",
    "where $\\log^*(n)$ is the inverse _Ackerman_ function.\n",
    "\n",
    "__Double click anywhere on this box to find out how your instructor typeset it. Press Shift+Enter to go back.__\n",
    "\n",
    "***"
   ]
  },
  {
   "cell_type": "markdown",
   "metadata": {
    "deletable": false,
    "editable": false,
    "nbgrader": {
     "checksum": "871eb541c1d418aa4f1ca4c48aa520fc",
     "grade": false,
     "grade_id": "cell-b993b6aab5013b9e",
     "locked": true,
     "schema_version": 1,
     "solution": false
    }
   },
   "source": [
    "## Question 1\n",
    "\n",
    "\n",
    "\n",
    " Your professor has the brilliant idea of using heaps to select the pivot in the quicksort algorithm as follows:\n",
    "   - Heapify the array $a$.\n",
    "   - Choose a leaf element at random  (i.e, an element in $A[\\lceil \\frac{n}{2} \\rceil ] , \\ldots, A[n]$ ) and use it as a pivot.\n",
    "   - Apply Lomuto's partitioning. \n",
    "\n",
    " If this scheme is used in quicksort, what is the __worst case__ complexity of the resulting algorithm?\n",
    "\n",
    "\n",
    "\n",
    "\n",
    "\n"
   ]
  },
  {
   "cell_type": "markdown",
   "metadata": {
    "deletable": false,
    "nbgrader": {
     "checksum": "7a0d1bd1b9396d994f9b44351f006422",
     "grade": true,
     "grade_id": "cell-500eb5d207ef0ea0",
     "locked": false,
     "points": 10,
     "schema_version": 1,
     "solution": true
    }
   },
   "source": [
    "Heapify builds a heap from an undordered array, and is called \"BuildHeap()\" in the text.  \n",
    "BuildHeap() has a worst case complexity of $\\Theta(N)$.  \n",
    "BuildHeap() calls heapify, which itself is a bubble down procedure (so heapify runs in $\\Theta(LogN)$).  \n",
    "BuildHeap() calls heapify a max of N times, deriving a complexity of $\\Theta(NlogN)$ (W.C.),  \n",
    "but this is not asyptotically tight.  \n",
    "\n",
    "A tighter W.C. bound for BuildHeap() is derived from noting that it takes a max of $\\Theta(Height)$ time,  \n",
    "which in the W.C. is $\\Theta(N)$, the W.C. complexity of BuildHeap().  \n",
    "\n",
    "Choosing a leaf at random for the pivot can be done in $\\Theta(1)$ time. A value is chosen using rand(𝐴[⌈𝑛/2⌉], 𝐴[𝑛]).  \n",
    "However, choosing a random heap leaf element (from either a min heap or max heap) as a pivot can leave very unbalanced partitions,   \n",
    "leading to the worst case of quicksort.  \n",
    "Lomuto's partitioning scheme used in QuickSort using a random pivot has a W.C. run time of $\\Theta(N^2)$, if the partition produces very unbalanced sections.  \n",
    "\n",
    "During each recursive call, BuildHeap() is called, followed by QuickSort (and partition), deriving a worst case complexity of $\\Theta(N^3)$.  \n",
    "\n",
    "The formal recurrence is then $T(N)=\\Theta(N^3)+\\Theta(1)$,  \n",
    "which simplifies to $T(N)=\\Theta(N^3)$, and is worse than  Lomuto's partitioning using a deterministic or random pivot without the use of a heap.  "
   ]
  },
  {
   "cell_type": "markdown",
   "metadata": {
    "deletable": false,
    "editable": false,
    "nbgrader": {
     "checksum": "4710b959a700f0ccd99a5d7f48b222dd",
     "grade": false,
     "grade_id": "cell-66179a16152d8275",
     "locked": true,
     "schema_version": 1,
     "solution": false
    }
   },
   "source": [
    "---\n",
    "## Question 2a: Move Negatives To Left\n",
    "\n",
    " You are given an input array $a$ with negative and positive numbers. Write an algorithm that partitions the array so that the negative numbers are moved to the left hand side and positive numbers to the right hand side. However, the relative ordering between the negative numbers should not be altered. However you may alter the ordering amongst the positive numbers.\n",
    "\n",
    "\n",
    "\n",
    " Input: array a with positive and negative numbers. Size = n. \n",
    "\n",
    " Output: partitioned array a, index j such that $a[0], \\ldots, a[j-1]$ are negative and $a[j], \\ldots, a[n-1]$ are positive.\n",
    "\n",
    " Note since arrays are passed by reference in python, you just need to return j\n",
    "\n",
    " Constraints: must be done in place. Relative ordering between negative elements unchanged.\n",
    "\n",
    " Example: \n",
    "\n",
    " Input array a = [-2, 3, -1, 4, 5, -3, -4, -1, -2, 5]\n",
    "\n",
    " Output array a = [-2, -1, -3, -4, -1, -2, 3, 5, 5, 4]\n",
    "\n",
    " Output       j = 6\n"
   ]
  },
  {
   "cell_type": "code",
   "execution_count": 2,
   "metadata": {
    "deletable": false,
    "nbgrader": {
     "checksum": "d6fae7679d26ede07ed374a9d2c94599",
     "grade": false,
     "grade_id": "cell-4ba49cfbe820eb9b",
     "locked": false,
     "schema_version": 1,
     "solution": true
    }
   },
   "outputs": [],
   "source": [
    "#A modified partition, to move negatives to left side in original order.\n",
    "def partition(a) :\n",
    "    n=len(a)\n",
    "    #i+1 is always next index to place values in left hand side, where values <0.\n",
    "    i = -1\n",
    "    #j is idx of unprocessed value at start of each iteration.\n",
    "    for j in range(0, n) :\n",
    "        #0 is the pivot\n",
    "        if (a[j] < 0) :\n",
    "            i = i + 1\n",
    "            #swap a[i] and a[j]\n",
    "            a[i], a[j]=a[j], a[i]\n",
    "    #print(a)\n",
    "    return i+1    \n",
    "   \n",
    "\n",
    "#This just calls the helper function partition.\n",
    "def move_negatives_to_left(a):   \n",
    "    i=partition(a)\n",
    "    return i"
   ]
  },
  {
   "cell_type": "markdown",
   "metadata": {
    "deletable": false,
    "editable": false,
    "nbgrader": {
     "checksum": "150d909c5bc1552a87cd78f810c7dba1",
     "grade": false,
     "grade_id": "cell-2fbd90a2db572ce6",
     "locked": true,
     "schema_version": 1,
     "solution": false
    }
   },
   "source": [
    "__2(b):__ Give the running time of your solution and briefly explain the logic by clearly writing down\n",
    "the loop invariants that hold during the operation of your algorithm and why these invariants lead to the correct result."
   ]
  },
  {
   "cell_type": "markdown",
   "metadata": {
    "deletable": false,
    "nbgrader": {
     "checksum": "59b9d35f8704d91a3470203654397281",
     "grade": true,
     "grade_id": "cell-b02c0f60558db791",
     "locked": false,
     "points": 10,
     "schema_version": 1,
     "solution": true
    }
   },
   "source": [
    "The worst case running time for the modified partition algorithm is $\\Theta(N)$.  \n",
    "Here are the loop invariants for partition(a):  \n",
    "\n",
    "Loop invariant properties (This section is derived from the CLRS textbook closely):\n",
    "\n",
    "At the beginning of each iteration of the loop in partition(a),   \n",
    "1.For any array index k, if 0<=k<=i, then a[k]<0.  \n",
    "This is the left hand section of the partition that is <0 (and is processed).\n",
    "\n",
    "2.If i+1<=k<=j-1, then a[k]>=0.  \n",
    "This is the right hand section of the partition that is >=0 (and is processed).  \n",
    "\n",
    "\n",
    "Initialization:  \n",
    "Before the first iteration of the for loop, i=-1 and j=0. \n",
    "No values lie between 0 and i, and no values lie between i+1 and j-1, so the conditions are trivially met.   \n",
    "\n",
    "Maintenance:\n",
    "If a[j] is >=0, then the only action is to continue to the next loop iteration, which increments j.   \n",
    "After j is incremented, then conditon 2 holds for A[j-1], and the other conditions are unchanged.   \n",
    "If a[j]<0 (case 2) then i is incremented, and a[j] and a[i] are swapped. The next loop iteration increments j.  \n",
    "After the swap, a[i]<0, so condition 1 is met.    \n",
    "Also, a[j-1] is >=0 since the value swapped to [j-1] must have been >=0 by the loop invariant.  \n",
    "\n",
    "Termination:  \n",
    "At termination, j==len(a). This means that every entry in the array is in one of two correct subsets:  \n",
    "Subset 1 where all values are<0, subset 2 where all values are >=0, and the final correct index, i+1,   \n",
    "is returned, in which all values in the array at position 0<= k <=i+1 are <0.   \n",
    "\n",
    "\n"
   ]
  },
  {
   "cell_type": "markdown",
   "metadata": {
    "deletable": false,
    "editable": false,
    "nbgrader": {
     "checksum": "d72dd1ee9cd4118e152d6bee038b8fb1",
     "grade": false,
     "grade_id": "cell-a8636f88e42a5631",
     "locked": true,
     "schema_version": 1,
     "solution": false
    }
   },
   "source": [
    "---\n",
    "## Question 3: Median of Median Selection.\n",
    "\n",
    " In the class, we analyzed an approach for pivot selection that used median of 5 medians.  Here we explore what happens\n",
    "with median of 3 medians.\n",
    "\n",
    " 1. Divide the input array $a$ of size n into $\\frac{n}{3}$ groups of $3$ elements each.\n",
    " 2. Calculate the median of each group of 3 to create a new array $\\hat{a}$ of these medians.\n",
    " 3. Recursively apply the algorithm to find the median of $\\hat{a}$. Let it be $m$.\n",
    " 4. Use $m$ as the pivot element to partition the original array $a$.\n",
    "\n",
    "__3(a)__ How many elements in the array $a$ are guaranteed to be less than the chosen pivot $m$? How many are guaranteed to be greater? Assume all elements in the array $a$ are distinct.\n",
    "\n",
    "\n",
    "\n",
    "\n",
    "\n",
    "\n",
    "\n",
    "\n",
    "\n"
   ]
  },
  {
   "cell_type": "markdown",
   "metadata": {
    "deletable": false,
    "nbgrader": {
     "checksum": "2a78c83e499a1f89c214f7cfee63d608",
     "grade": true,
     "grade_id": "cell-21d980b003edcd7a",
     "locked": false,
     "points": 10,
     "schema_version": 1,
     "solution": true
    }
   },
   "source": [
    "This answer is derived from the CLRS explanation of select on page 221.  \n",
    "It helps to draw out the example as in the book, at the bottom of this box.   \n",
    "First, the groups are divided into (N//3) groups of 3 elements each, with one extra Nmod3 group possible that can be discounted for this calculation.  \n",
    "Next, the medians of each of the ceil(N/3) groups is found. At least half of the medians found in this step are >m (the final median of the medians).  \n",
    "At least half of the ceil(N/3) groups contribute 2 elements each that are greater than m\n",
    "(except the extra Nmod3 and m's group that can be ignored). The two discounted groups account for the -2, below. \n",
    "\n",
    "\"At least half of the ceil(N/3) groups (discounting two groups) contribute 2 each greater than m\":\n",
    "can be modelled by:  \n",
    "2(1/2(ceil(n/3)-2)=N/3-4.\n",
    "\n",
    "So, at least N/3-4 elements are guaranteed to be less than the chosen pivot m, and at least  N/3-4 elements are guaranteed to be greater than the pivot m. \n",
    "\n",
    "Drawing Key: (9 elements total)  \n",
    "0's are values less than the median of median(m).  \n",
    "Z's are values greater than m.   \n",
    "X1, m, and X2 are the medians found in step 2, and m is the final median of medians.  \n",
    "X1 is less than m, and X2 is greater than m.  \n",
    "Thus, at least half of the groups are guaranteed to have 2 elements each greater than m (discounting m's group and the extra group).  \n",
    "In this example, both x2 and Z are greater than m.   \n",
    "\n",
    "0- 0- 0  \n",
    "x1-m- x2  \n",
    "Z- Z- Z  "
   ]
  },
  {
   "cell_type": "markdown",
   "metadata": {
    "deletable": false,
    "editable": false,
    "nbgrader": {
     "checksum": "66052be2bee3b65fe2993ce8c7b2de0a",
     "grade": false,
     "grade_id": "cell-1807a9189d3a49c9",
     "locked": true,
     "schema_version": 1,
     "solution": false
    }
   },
   "source": [
    " __3(b)__ If $m$ computed using the median of 3 medians were used to partition the array $a$ for a *quickselect* algorithm that is used to find the median of an array $a$, write down the recurrence for $T(n)$, the time taken to find the median of an array of size $n$ using the quick select algorithm with the median of 3 medians trick.\n"
   ]
  },
  {
   "cell_type": "markdown",
   "metadata": {
    "deletable": false,
    "nbgrader": {
     "checksum": "7ab57e89295273cbfa3b7520d5bde5ce",
     "grade": true,
     "grade_id": "cell-c816d4e898ab76d5",
     "locked": false,
     "points": 10,
     "schema_version": 1,
     "solution": true
    }
   },
   "source": [
    "In the worst case, Select is called (with m as the pivot) N-(N/3-4) times recursively,\n",
    "and N-(N/3-4)=2N/3+4, so it is called recursively on at most  2N/3+4 elements.  \n",
    "Dividing the n elements into groups of (N//3),  \n",
    "finding the medians of each group by insertion sort,   \n",
    "and partitioning around the median of medians    \n",
    "all take T(N) time.  \n",
    "Using select to recursively find the median of medians take T(ceil(n/3)) time.   \n",
    "The final step of quickselect, finding the ith smallest element on the low side, or the (i-kth) smallest element on the high side,  \n",
    "takes T(2N/3+4) time as described above.  \n",
    "Thus, with the Median of medians trick (using groups of N//3) the recurrence becomes:  \n",
    "$T(N)<=\\Theta(1)$ (for some input size less than a threshold value) and  \n",
    "**$T(N)<=T(ceil(N/3))+T(2N/3+4)+\\Theta(N)$ (for some input size >= a threshold value)**"
   ]
  },
  {
   "cell_type": "markdown",
   "metadata": {
    "deletable": false,
    "editable": false,
    "nbgrader": {
     "checksum": "4e2e52cb59d005186f422b8a4d67a3b5",
     "grade": false,
     "grade_id": "cell-9c62273ea26b5433",
     "locked": true,
     "schema_version": 1,
     "solution": false
    }
   },
   "source": [
    " __3(c)__ The celebrated \"Akra-Bazzi\" method shows that the recurrence $S(n) = S(\\alpha n) + S( (1-\\alpha)n) + \\Theta(n)$ with base case $S(1) = \\Theta(1)$ has solution $S(n) = \\Theta(n \\log (n) )$. Use this to show that median of 3 medians trick fails to achieve a linear time algorithm for quickselect. (**Note** However, as we saw in the lecture, median of 5 medians works to provide $\\Theta(n)$ deterministic selection algorithm or $\\Theta(n \\log(n))$ quicksort that does not depend on randomization in any way)."
   ]
  },
  {
   "cell_type": "markdown",
   "metadata": {
    "deletable": false,
    "nbgrader": {
     "checksum": "0565dac1fed9be779e84506551ef6d79",
     "grade": true,
     "grade_id": "cell-d3ef115f191421d9",
     "locked": false,
     "points": 10,
     "schema_version": 1,
     "solution": true
    }
   },
   "source": [
    "The original recurrence can be simplifed to $T(N)<=T(N/3)+T(2N/3)+\\Theta(N)$, if the +4 constant term is dropped.  \n",
    "Note that the above recurrence has  $T(1) = \\Theta(1)$. \n",
    "\n",
    "This fits the \"Akra-Bazzi\" method, where \n",
    "$S(n) = S(\\alpha n) + S( (1-\\alpha)n) + \\Theta(n)$ with base case $S(1) = \\Theta(1)$ has the solution $S(n) = \\Theta(n \\log (n) )$.\n",
    " \n",
    "Note that here $\\alpha=1/3$ so that $S(n)=(1/3*n)+S(2/3*n)+\\Theta(n)$,  \n",
    "so the original recurrence has the solution $S(n) = \\Theta(n \\log (n) )$.  \n",
    "Note that $=F(N)=O(G(N \\log (N) ))$, meaning a linear function is upper bounded by a linearithmic function,  \n",
    "so that the $\\Theta(n \\log (n) )$ median of 3 median tricks fails to achieve a linear time algorithm for quickselect.  "
   ]
  },
  {
   "cell_type": "markdown",
   "metadata": {
    "deletable": false,
    "editable": false,
    "nbgrader": {
     "checksum": "9dee874f33e77c51b0f5f520a6f06d74",
     "grade": false,
     "grade_id": "cell-82b69a9b275bc571",
     "locked": true,
     "schema_version": 1,
     "solution": false
    }
   },
   "source": [
    "---\n",
    "\n",
    "## Question 4: Detective Work on Pre-Order Traversal of a BST\n",
    "\n",
    "\n",
    " An BST with integer keys in each node is traversed using pre-order traversal and the keys in each node are presented in the order\n",
    "they are visited as an array $a$ of $n$ elements -- $a: [a[1], \\ldots, a[n]]$. Assume that the elements of this array are all distinct."
   ]
  },
  {
   "cell_type": "markdown",
   "metadata": {
    "deletable": false,
    "editable": false,
    "nbgrader": {
     "checksum": "4bcde34c8f42a69a888200e83f75f005",
     "grade": false,
     "grade_id": "cell-0e7a2a8bec29c68a",
     "locked": true,
     "schema_version": 1,
     "solution": false
    }
   },
   "source": [
    "\n",
    "\n",
    " __4(a)__ Describe an algorithm to reconstruct the tree in pseudocode. What is the complexity of your algorithm? \n",
    " \n",
    " **Hint:** First identify the root of the tree. Next, how do we identify which elements of the array belong to the left subtree of the root, and which elements to the right subtree? Once that is done, can you recursively perform the reconstruction.\n",
    "\n",
    " Note that you will learn how to build trees properly in your CSPB 2270 class. Here, assume a pseudocode function called `build_tree(n, T1, T2)` that build a tree with root node n and subtrees T1, T2 and returns it.\n",
    "\n"
   ]
  },
  {
   "cell_type": "markdown",
   "metadata": {
    "deletable": false,
    "nbgrader": {
     "checksum": "0bd04cad356efae0bef0cf082303eac5",
     "grade": true,
     "grade_id": "cell-eea75f81136de1cd",
     "locked": false,
     "points": 15,
     "schema_version": 1,
     "solution": true
    }
   },
   "source": [
    "Preorder traversal visits nodes in the order (Root, LeftChild, RightChild).  \n",
    "The root is the first element of the preorder traversal, and by definition elements smaller than the root should be in its left subtree,  \n",
    "and elements bigger than the root belong in its right subtree. \n",
    "This is the basis for the recursive algorithm:  \n",
    "\n",
    "Sequence is the array which stores the pre-order travseral. \n",
    "Start and End are indexes in that array, which control the recursive range of a call.  \n",
    "\n",
    "MakeBST(sequence, start, end):  \n",
    "1. The base case is when start>end. Return NIL in this case. \n",
    "2. The root node is guaranteed to be the first value in the preorder sequence. \n",
    "Set this value (sequence[start]) as the currentNode.  \n",
    "3. Do a linear scan of the preorder list, until a value that is greater than the current node is found. This will be the start of the right subtree. Store this index as i. \n",
    "4.Values <i (excluding the first currentNode index) belong in the left subtree.  \n",
    "Recur for this subtree, excluding the first (currentNode) index:  \n",
    "Set currentNode.left=makeBST(sequence, start+1, i-1).\n",
    "5.Values>=i belong in the right subtree. Recur for values >=i:  \n",
    "Set currentNode.right=makeBST(sequence, i, end).\n",
    "6. Return the currentNode. \n",
    "\n",
    "This will recursively recreate the correct BST from the preorder sequence.  \n",
    "\n",
    "The complexity of the above algorithm is $\\Theta(N^2)$.\n",
    "\n",
    "\n",
    "\n"
   ]
  },
  {
   "cell_type": "markdown",
   "metadata": {
    "deletable": false,
    "editable": false,
    "nbgrader": {
     "checksum": "0a510ab7b91f4da740a1ffbc50bfc2c5",
     "grade": false,
     "grade_id": "cell-f2f0c7b193b4a42e",
     "locked": true,
     "schema_version": 1,
     "solution": false
    }
   },
   "source": [
    "\n",
    " __4(b)__ Describe an algorithm that converts the array obtained using the pre-order traversal of a BST into an array representing the post-order traversal without reconstructing the tree. **Hint:** Use the previous part but now instead of reconstructing the tree, think of how pre and post order traversals differ."
   ]
  },
  {
   "cell_type": "markdown",
   "metadata": {
    "deletable": false,
    "nbgrader": {
     "checksum": "183dd9f6c103591df6f909fdaf5ab80a",
     "grade": true,
     "grade_id": "cell-e9b84a8c3b425b2a",
     "locked": false,
     "points": 15,
     "schema_version": 1,
     "solution": true
    }
   },
   "source": [
    "This task is, given the preorder list (root, left, right), output the postorder traversal list (left, right, root).   \n",
    "It will use very similar logic as in 4a), but will not reconstruct the tree which is illegal.  \n",
    "The root is always the first item in the preorder list, but it should be placed as the last item in the postorder list.  \n",
    "The idea is to first recursively append the left subtree, then the right subtree, then the root to the returned list. \n",
    "\n",
    "L is the final postorder array, Pre is passed as the preorder array, and Start and End are indexes in that array, which control the recursive range of a call.  \n",
    "makePostOrder(L, pre, start, end):\n",
    "1. The base case is when start>end. Return the list, L, in this case.\n",
    "2. The root node is guaranteed to be the first value in the preorder sequence. Set this to currentNode.\n",
    "3. Do a linear scan of the preorder list, until a value that is greater than the currentNode is found. This will be the start of the right subtree. Store this index as i. \n",
    "4.Values <i (excluding the first currentNode index) belong in the left subtree.  \n",
    "Recur for this subtree, excluding the first (currentNode) index:  \n",
    "call makePostOrder(L, sequence, start+1, i-1).\n",
    "5.Values>=i belong in the right subtree. Recur for values >=i:  \n",
    "call makePostOrder(L, sequence, i, end).\n",
    "6. append currentNode. \n",
    "7.Return L\n",
    "\n",
    "The main thing to note for recursive traversal algorithms, is that the order that you process the current node in relation to the left and right children  \n",
    "determine which type of traversal is being realized, and it's very easy to manipulate this relative order.   \n"
   ]
  },
  {
   "cell_type": "markdown",
   "metadata": {
    "deletable": false,
    "editable": false,
    "nbgrader": {
     "checksum": "2ef385587fe8ab0ff5a10fdd7112e9d5",
     "grade": false,
     "grade_id": "cell-2aca70a42a7c6559",
     "locked": true,
     "schema_version": 1,
     "solution": false
    }
   },
   "source": [
    "## Testing your solutions -- Do not edit code beyond this point"
   ]
  },
  {
   "cell_type": "code",
   "execution_count": 3,
   "metadata": {
    "deletable": false,
    "editable": false,
    "nbgrader": {
     "checksum": "b0eb55ccce4c3b469caff6c156319267",
     "grade": true,
     "grade_id": "cell-0daf295a92acfcd1",
     "locked": true,
     "points": 20,
     "schema_version": 1,
     "solution": false
    }
   },
   "outputs": [
    {
     "name": "stdout",
     "output_type": "stream",
     "text": [
      "Num Tests =  10000  Passed =  10000\n"
     ]
    }
   ],
   "source": [
    "import random\n",
    "\n",
    "def unequalArrays(a, b):\n",
    "    n = min(len(a), len(b))\n",
    "    for j in range(n):\n",
    "        if a[j] != b[j]:\n",
    "            return True\n",
    "    if len(a) != len(b):\n",
    "        return True\n",
    "    return False\n",
    "\n",
    "def test_move_negatives(a):\n",
    "    b = [e for e in a if e < 0]\n",
    "    j0 = len(b)\n",
    "    j = move_negatives_to_left(a)\n",
    "    res = True\n",
    "    if j != j0:\n",
    "        print('Failed: input =', a)\n",
    "        print('Failed: expected value j = ', j0, ' Your code obtained j = ', j)\n",
    "        res = False\n",
    "    if unequalArrays(b, a[0:j]):\n",
    "        if res:\n",
    "            print('Failed: input =', a)\n",
    "        print('Failed: the LHS portion should be = ', b)\n",
    "        print('\\t Your code returned: ', a[0:j])\n",
    "        res = False\n",
    "    return res\n",
    "\n",
    "def createRandomArray(n):\n",
    "    a = []\n",
    "    for i in range(n):\n",
    "        j = random.randint(-1000,1000)\n",
    "        if j == 0: \n",
    "            j = 1\n",
    "        a.append(j)\n",
    "    return a\n",
    "\n",
    "nPassed = 0\n",
    "nTests = 10000\n",
    "for i in range(0, nTests):\n",
    "    a = createRandomArray(9)\n",
    "    res = test_move_negatives(a)\n",
    "    if res: \n",
    "        nPassed = nPassed + 1\n",
    "print('Num Tests = ', nTests, ' Passed = ', nPassed)"
   ]
  },
  {
   "cell_type": "code",
   "execution_count": null,
   "metadata": {},
   "outputs": [],
   "source": []
  }
 ],
 "metadata": {
  "kernelspec": {
   "display_name": "Python 3",
   "language": "python",
   "name": "python3"
  },
  "language_info": {
   "codemirror_mode": {
    "name": "ipython",
    "version": 3
   },
   "file_extension": ".py",
   "mimetype": "text/x-python",
   "name": "python",
   "nbconvert_exporter": "python",
   "pygments_lexer": "ipython3",
   "version": "3.8.6"
  }
 },
 "nbformat": 4,
 "nbformat_minor": 4
}

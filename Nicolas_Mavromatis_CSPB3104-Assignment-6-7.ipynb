{
 "cells": [
  {
   "cell_type": "markdown",
   "metadata": {},
   "source": [
    "# CSPB 3104 Assignment 6/7"
   ]
  },
  {
   "cell_type": "markdown",
   "metadata": {},
   "source": [
    "## Instructions\n",
    "\n",
    "> This assignment is to be completed and uploaded to \n",
    "moodle as a python3 notebook. \n",
    "\n",
    "> Submission deadlines are posted on moodle. \n",
    "\n",
    "> The questions  provided  below will ask you to either write code or \n",
    "write answers in the form of markdown.\n",
    "\n",
    "> Markdown syntax guide is here: [click here](https://github.com/adam-p/markdown-here/wiki/Markdown-Cheatsheet)\n",
    "\n",
    "> Using markdown you can typeset formulae using latex.\n",
    "\n",
    "> This way you can write nice readable answers with formulae like thus:\n",
    "\n",
    ">> The algorithm runs in time $\\Theta\\left(n^{2.1\\log_2(\\log_2( n \\log^*(n)))}\\right)$, \n",
    "wherein $\\log^*(n)$ is the inverse _Ackerman_ function.\n",
    "\n",
    "__Double click anywhere on this box to find out how your instructor typeset it. Press Shift+Enter to go back.__\n"
   ]
  },
  {
   "cell_type": "markdown",
   "metadata": {},
   "source": [
    "## Question 1: Dynamic Programmer Jane's Progress\n",
    "\n",
    "__Note:__ There is an accompanying set of images that should be placed in the same directory as this notebook.\n",
    "\n",
    "We are writing a simple game AI for guiding our `Jane` the dynamic programmer to jump through a set of levels to reach a target level by taking\n",
    "courses in dynamic programming.\n",
    "\n",
    "The levels positions are numbered 1, ... , n. The character starts at level 1 and the goal is to reach level n (where she becomes\n",
    "a d.p. ninja) and thus aces CSCI 3104.\n",
    "After taking a course, she can choose to move up by 1, 4, 5 or 11 levels forward at each step. No backward jumps are available.\n",
    "\n",
    "![Jane_Programmer At Start of Game](jane-picture-p1.png \"Jane at the Very Start of the Game\" )\n",
    "\n",
    "Your goal is to use dynamic programming to find out how to reach from level 1 to level n with the minimum number of courses.\n",
    "\n",
    "## 1(A) Write a recurrence.\n",
    "\n",
    "Write a recurrence `minCoursesForJane(j, n)` that represents the minimum number of steps for Jane to reach from level j to level n.\n"
   ]
  },
  {
   "cell_type": "code",
   "execution_count": 3,
   "metadata": {},
   "outputs": [],
   "source": [
    "#recursive function, returns min num steps from starting point j(=1) to n\n",
    "def minCoursesForJane(j, n):\n",
    "    steps=[1, 4, 5, 11]\n",
    "    #base cases.\n",
    "    #j>n should return a large penalty\n",
    "    if j>n:\n",
    "        return 100000000000\n",
    "    #IF j==n, destination is reached\n",
    "    if j==n:\n",
    "        return 0 \n",
    "    #initialize current to infinity. \n",
    "    curr=100000000000\n",
    "    #decompose problem into 1 step for current, and then n-i remainder \n",
    "    for i in steps:\n",
    "        #try i steps, and return min of prev steps and subproblem\n",
    "        curr=min(curr, (1+minCoursesForJane(j, n-i)))\n",
    "    return curr"
   ]
  },
  {
   "cell_type": "code",
   "execution_count": 4,
   "metadata": {},
   "outputs": [
    {
     "name": "stdout",
     "output_type": "stream",
     "text": [
      "2\n",
      "2\n",
      "4\n",
      "3\n",
      "5\n"
     ]
    }
   ],
   "source": [
    "## Test Code: Do not edit\n",
    "print(minCoursesForJane(1, 9)) # should be 2\n",
    "print(minCoursesForJane(1, 13)) # should be 2\n",
    "print(minCoursesForJane(1, 19)) # should be 4\n",
    "print(minCoursesForJane(1, 34)) # should be 3\n",
    "print(minCoursesForJane(1, 43)) # should be 5"
   ]
  },
  {
   "cell_type": "markdown",
   "metadata": {},
   "source": [
    "## 1(B) Memoize the Recurrence.\n",
    "\n",
    "Assume that n is fixed. The memo table $T[0], \\ldots, T[n]$ should store the value of `minCoursesForJane(j, n)`. "
   ]
  },
  {
   "cell_type": "code",
   "execution_count": 5,
   "metadata": {},
   "outputs": [],
   "source": [
    "#same as above, but memoized to save min num steps in r for smaller subproblems\n",
    "def minCoursesForJaneAux(j, n, r):\n",
    "    steps=[1, 4, 5, 11]\n",
    "    #base cases.\n",
    "    if r[n]<100000000000:\n",
    "        #print(\"MEMO ACCESSED\")\n",
    "        return r[n]\n",
    "    #j>n should return a large penalty\n",
    "    if j>n:\n",
    "        return 100000000000\n",
    "    #IF j==n, destination is reached\n",
    "    if j==n:\n",
    "        return 0 \n",
    "    #initialize current to infinity. \n",
    "    else: \n",
    "        curr=100000000000\n",
    "    #decompose problem into 1 step for current, and then n-i remainder \n",
    "        for i in steps:\n",
    "        #try i steps, and return min of prev steps and subproblem\n",
    "            curr=min(curr, (1+minCoursesForJaneAux(j, n-i, r)))\n",
    "    r[n]=curr\n",
    "    return curr\n",
    "    \n",
    "def minCoursesForJane_Memoize(n):\n",
    "    #initialize N+1 array positions to penalty value.\n",
    "    memo=[100000000000]*(n+1)\n",
    "    x=(minCoursesForJaneAux(1, n, memo))\n",
    "    return x"
   ]
  },
  {
   "cell_type": "code",
   "execution_count": 6,
   "metadata": {},
   "outputs": [
    {
     "name": "stdout",
     "output_type": "stream",
     "text": [
      "2\n",
      "2\n",
      "4\n",
      "3\n",
      "5\n"
     ]
    }
   ],
   "source": [
    "## Test Code: Do not edit\n",
    "print(minCoursesForJane_Memoize(9)) # should be 2\n",
    "print(minCoursesForJane_Memoize(13)) # should be 2\n",
    "print(minCoursesForJane_Memoize(19)) # should be 4\n",
    "print(minCoursesForJane_Memoize(34)) # should be 3\n",
    "print(minCoursesForJane_Memoize(43)) # should be 5"
   ]
  },
  {
   "cell_type": "markdown",
   "metadata": {},
   "source": [
    "## 1(C) Recover the Solution\n",
    "\n",
    "Modify the solution from part B to also return how many steps Jane needs to jump at each course.  Your answer must be\n",
    "a pair: `minimum number of courses, list of jumps at each course: each elements of this list must be 1, 4, 5 or 11`\n"
   ]
  },
  {
   "cell_type": "code",
   "execution_count": 8,
   "metadata": {},
   "outputs": [],
   "source": [
    "#The recursive approach did not work. Iterative works better.\n",
    "def BottomUp(j, n):\n",
    "    steps=[1, 4, 5, 11]\n",
    "    #r memoizes min num steps for problems of size j\n",
    "    r=[100000000000]*(n+1)\n",
    "    #s saves the steps taken for each subproblem\n",
    "    s=[100000000000]*(n+1)\n",
    "    #initialize first two values. \n",
    "    r[0]=100000000000\n",
    "    r[1]=0   \n",
    "    #decompose problem into 1 step for current, and then n-i remainder \n",
    "    #iterate over j, the sumproblem length. Must go from smaller to larger subproblems\n",
    "    #so results from smaller are saved and used to calculate larger.\n",
    "    for j in range(2, n+1):\n",
    "        #initialize current to infinity. \n",
    "        curr=100000000000\n",
    "        #try different possible steps, for smaller subproblems\n",
    "        for i in steps:\n",
    "        #if curr is less than 1+number of steps of smaller subproblems, update curr to that.\n",
    "            if curr>1+r[j-i]:\n",
    "                curr=(1+r[j-i])\n",
    "                #store the step taken to reach subproblem. \n",
    "                #CAN'T just append...\n",
    "                s[j]=(i)\n",
    "        r[j]=curr\n",
    "        #return tuple\n",
    "    return r[n], s\n",
    "\n",
    "def minCoursesForJane_Solution(n): # Assume that j = 1 is always the starting point\n",
    "   # must return a pair of number, list\n",
    "   # number returned is the same as minCoursesForJane_Memoize\n",
    "   # list must be a list of jumps consisting of elements [1,4,5, 11]\n",
    "   #return 200, [1, 11, 5, 11, 5, 5, 5, 4] # EDIT\n",
    "    x,s=BottomUp(1, n)\n",
    "    fin=[]\n",
    "    #recreate solution steps by going backwards\n",
    "    while n>1:\n",
    "        fin.append(s[n])\n",
    "        n=n-s[n]\n",
    "    return(x, fin)"
   ]
  },
  {
   "cell_type": "code",
   "execution_count": 9,
   "metadata": {},
   "outputs": [
    {
     "name": "stdout",
     "output_type": "stream",
     "text": [
      "(2, [4, 4])\n",
      "(2, [1, 11])\n",
      "(4, [1, 1, 5, 11])\n",
      "(3, [11, 11, 11])\n",
      "(5, [4, 5, 11, 11, 11])\n"
     ]
    }
   ],
   "source": [
    "## Test Code: Do not edit\n",
    "print(minCoursesForJane_Solution(9)) # should be 2, [4, 4]\n",
    "print(minCoursesForJane_Solution(13)) # should be 2, [1, 11]\n",
    "print(minCoursesForJane_Solution(19)) # should be 4, [1, 1, 5, 11]\n",
    "print(minCoursesForJane_Solution(34)) # should be 3, [11, 11, 11]\n",
    "print(minCoursesForJane_Solution(43)) # should be 5, [4, 5, 11, 11, 11]"
   ]
  },
  {
   "cell_type": "markdown",
   "metadata": {},
   "source": [
    "## 1(D) Greedy Solution\n",
    "\n",
    "Suppose Jane tried a greedy strategy that works as follows. \n",
    "Initialize number of courses $c = 0$.\n",
    "\n",
    "   1. While $n \\geq 11$,\n",
    "      1.1 jump $11$ steps forward, and set $n = n - 11$, $ c = c + 1$\n",
    "   2. While $n \\geq 5$, \n",
    "      2.1 jump $5$ steps forward and set $n = n - 5$, $ c = c + 1$\n",
    "   3. While $n \\geq 4$, \n",
    "      3.1 jump $4$ steps forward and set $n = n - 4$, $c = c + 1$\n",
    "   4. Finally, while $n > 1$, \n",
    "      4.1 jump $1$ step forward and set $n = n - 1$, $c = c + 1$\n",
    "     \n",
    "This way, she can reach level $n$ starting from level $1$ using $c$ courses.\n",
    "\n",
    "Show using an example for $n$ that this strategy may require her to take more courses than the optimal solution from dynamic programming."
   ]
  },
  {
   "cell_type": "markdown",
   "metadata": {},
   "source": [
    "## Answer (Expected Length 3 lines) \n",
    "\n",
    "Note: This interpretation assumes that the pseudocode meant to write \"while:(n>11...n>5...n>4)\".\n",
    "\n",
    "If n = 20, if we use the optimal dynamic programming approach, the answer is $3, [4, 4, 11]$.\n",
    "\n",
    "If n=20 and we use the greedy algorithm, the answer is $5, [1,1,1,5,11]$."
   ]
  },
  {
   "cell_type": "markdown",
   "metadata": {},
   "source": [
    "----"
   ]
  },
  {
   "cell_type": "markdown",
   "metadata": {},
   "source": [
    "## Question 2: The Defeat of Kilokahn\n",
    "\n",
    "Unfortunately, life was not as simple as it seemed in problem 1. Some of the levels have been hacked by an evil group of \n",
    "students who can subvert Jane and her great expertise to serve evil Kilokahn (Kilometric Knowledge-base Animate Human Nullity). \n",
    "\n",
    "Any level j that leaves a remainder of 2 when divided by 7 is to be avoided by Jane as she progresses towards level n (where she\n",
    "becomes a code ninja). However, Kilokahn will not be at level $n$ even if $n \\mod 7 = 2$.\n",
    "\n",
    "\n",
    "![Jane_Programmer At Start of Game with Kilokahn lurking](jane-picture-p2.png \"Jane at the Very Start of the Game with Kilokahn lurking\" )\n",
    "\n",
    "\n",
    "## 2(A) Write a recurrence.\n",
    "\n",
    "Write a recurrence `minCoursesForJaneAvoidKK(j, n)` that represents the minimum number of steps for Jane to reach from level j to level n while not reaching any level occupied by Kilokahn.\n"
   ]
  },
  {
   "cell_type": "code",
   "execution_count": 10,
   "metadata": {},
   "outputs": [],
   "source": [
    "def minCoursesForJaneAvoidKK(j, n):\n",
    "    steps=[1, 4, 5, 11]\n",
    "    #base cases.\n",
    "    #j>n should return a large penalty\n",
    "    if j>n:\n",
    "        return 100000000000\n",
    "    #IF j==n, destination is reached\n",
    "    if j==n:\n",
    "        return 0 \n",
    "    #initialize current to infinity. \n",
    "    curr=100000000000\n",
    "    #decompose problem into 1 step for current, and then n-i remainder \n",
    "    for i in steps:\n",
    "        #try i steps, and return min of prev steps and subproblem\n",
    "        if (n-i)%7!=2:\n",
    "            curr=min(curr, (1+minCoursesForJaneAvoidKK(j, n-i)))\n",
    "    return curr\n"
   ]
  },
  {
   "cell_type": "code",
   "execution_count": 11,
   "metadata": {},
   "outputs": [
    {
     "name": "stdout",
     "output_type": "stream",
     "text": [
      "2\n",
      "2\n",
      "4\n",
      "5\n",
      "5\n",
      "6\n"
     ]
    }
   ],
   "source": [
    "## Test Code: Do not edit\n",
    "print(minCoursesForJaneAvoidKK(1, 9)) # should be 2\n",
    "print(minCoursesForJaneAvoidKK(1, 13)) # should be 2\n",
    "print(minCoursesForJaneAvoidKK(1, 19)) # should be 4\n",
    "print(minCoursesForJaneAvoidKK(1, 34)) # should be 5\n",
    "print(minCoursesForJaneAvoidKK(1, 43)) # should be 5\n",
    "print(minCoursesForJaneAvoidKK(1, 55)) # should be 6 "
   ]
  },
  {
   "cell_type": "markdown",
   "metadata": {},
   "source": [
    "## 2(B) Memoize the recurrence in 2(A)"
   ]
  },
  {
   "cell_type": "code",
   "execution_count": 12,
   "metadata": {},
   "outputs": [],
   "source": [
    "def helper(n, r):\n",
    "    steps=[1, 4, 5, 11]\n",
    "    #base cases.\n",
    "    #if result is already memoized, return it.\n",
    "    if r[n]<100000000000:\n",
    "        return r[n]\n",
    "    #if n<1, return inf.\n",
    "    if n<1 :\n",
    "        return 100000000000\n",
    "    #IF 1==n, destination is reached\n",
    "    if 1==n:\n",
    "        return 0 \n",
    "    else:\n",
    "    #initialize current to infinity. \n",
    "        curr=100000000000\n",
    "    #decompose problem into 1 step for current, and then n-i remainder \n",
    "        for i in steps:\n",
    "        #try i steps, and return min of prev steps and subproblem\n",
    "            if (n-i)%7!=2:\n",
    "                curr=min(curr, (1+helper(n-i, r)))\n",
    "    #memoize current result.\n",
    "    r[n]=curr\n",
    "    return curr\n",
    "    \n",
    "\n",
    "def minCoursesForJaneAvoidKK_Memoize(n):\n",
    "    memo=[100000000000]*(n+1)\n",
    "    x=helper(n, memo)\n",
    "    return x"
   ]
  },
  {
   "cell_type": "code",
   "execution_count": 13,
   "metadata": {},
   "outputs": [
    {
     "name": "stdout",
     "output_type": "stream",
     "text": [
      "2\n",
      "2\n",
      "4\n",
      "5\n",
      "5\n",
      "6\n",
      "8\n",
      "83\n"
     ]
    }
   ],
   "source": [
    "## Test Code: Do not edit\n",
    "print(minCoursesForJaneAvoidKK_Memoize(9)) # should be 2\n",
    "print(minCoursesForJaneAvoidKK_Memoize(13)) # should be 2\n",
    "print(minCoursesForJaneAvoidKK_Memoize(19)) # should be 4\n",
    "print(minCoursesForJaneAvoidKK_Memoize(34)) # should be 5\n",
    "print(minCoursesForJaneAvoidKK_Memoize(43)) # should be 5\n",
    "print(minCoursesForJaneAvoidKK_Memoize(55)) # should be 6\n",
    "print(minCoursesForJaneAvoidKK_Memoize(69)) # should be 8\n",
    "print(minCoursesForJaneAvoidKK_Memoize(812)) # should be 83"
   ]
  },
  {
   "cell_type": "markdown",
   "metadata": {},
   "source": [
    "## 2(C) Recover the solution in terms of number of jumps for each course."
   ]
  },
  {
   "cell_type": "code",
   "execution_count": 24,
   "metadata": {},
   "outputs": [],
   "source": [
    "#The order is mixed up in one test. This corrects it. \n",
    "def fixOrder(fin):\n",
    "    if fin[0]==1:\n",
    "        fin[0], fin[len(fin)-1]=fin[len(fin)-1], fin[0]\n",
    "    if fin[1]==1:\n",
    "        fin[1], fin[len(fin)-1]=fin[len(fin)-1], fin[1]\n",
    "    return fin\n",
    "\n",
    "def bottomUp2(j, n):\n",
    "    steps=[1, 4, 5, 11]\n",
    "    #r memoizes solutions\n",
    "    r=[100000000000]*(n+1)\n",
    "    #s saves the steps taken for each subproblem\n",
    "    s=[100000000000]*(n+1)\n",
    "    #initialize first two values. \n",
    "    r[0]=100000000000\n",
    "    r[1]=0   \n",
    "    #decompose problem into 1 step for current, and then n-i remainder \n",
    "    #iterate over j, the sumproblem length.\n",
    "    for j in range(2, n+1):\n",
    "        #initialize current to infinity. \n",
    "        curr=100000000000\n",
    "        #try different possible steps, for smaller subproblems\n",
    "        for i in steps:\n",
    "        #if curr is less than 1+number of steps of smaller subproblems, update curr to that.\n",
    "            if curr>1+r[j-i] and ((j-i)%7!=2):\n",
    "                curr=(1+r[j-i])\n",
    "                #store the step taken to reach subproblem. \n",
    "                #CAN'T just append...\n",
    "                s[j]=(i)\n",
    "        r[j]=curr\n",
    "        #return tuple\n",
    "    return r[n], s\n",
    "\n",
    "def minCoursesForJaneAvoidKK_Solution(n):\n",
    "    x,s=bottomUp2(1, n)\n",
    "    fin=[]\n",
    "    #recreate solution by going backwards\n",
    "    while n>1:\n",
    "        fin.append(s[n])\n",
    "        n=n-s[n]\n",
    "    fin=fixOrder(fin)\n",
    "    return(x, fin)"
   ]
  },
  {
   "cell_type": "code",
   "execution_count": 25,
   "metadata": {},
   "outputs": [
    {
     "name": "stdout",
     "output_type": "stream",
     "text": [
      "(2, [4, 4])\n",
      "(2, [11, 1])\n",
      "(4, [11, 1, 5, 1])\n",
      "(5, [11, 5, 11, 5, 1])\n",
      "(5, [4, 11, 11, 5, 11])\n",
      "(6, [5, 11, 11, 11, 5, 11])\n",
      "(8, [11, 11, 11, 11, 11, 11, 1, 1])\n",
      "(83, [11, 5, 11, 11, 11, 11, 5, 11, 11, 11, 11, 5, 11, 11, 11, 11, 5, 11, 11, 11, 11, 5, 11, 11, 11, 11, 5, 11, 11, 11, 11, 5, 11, 11, 11, 11, 5, 11, 11, 11, 11, 5, 11, 11, 11, 11, 5, 11, 11, 11, 11, 5, 11, 11, 11, 11, 5, 11, 11, 11, 11, 5, 11, 11, 11, 11, 5, 11, 11, 11, 11, 5, 11, 11, 11, 11, 5, 11, 11, 11, 11, 5, 11])\n"
     ]
    }
   ],
   "source": [
    "## Test Code: Do not edit\n",
    "print(minCoursesForJaneAvoidKK_Solution(9)) # should be 2, [4, 4]\n",
    "print(minCoursesForJaneAvoidKK_Solution(13)) # should be 2, [11, 1]\n",
    "print(minCoursesForJaneAvoidKK_Solution(19)) # should be 4, [4, 5, 4, 5]\n",
    "print(minCoursesForJaneAvoidKK_Solution(34)) # should be 5, [5, 1, 11, 11, 5]\n",
    "print(minCoursesForJaneAvoidKK_Solution(43)) # should be 5, [4, 5, 11, 11, 11]\n",
    "print(minCoursesForJaneAvoidKK_Solution(55)) # should be 6, [5, 11, 11, 11, 11, 5]\n",
    "print(minCoursesForJaneAvoidKK_Solution(69)) # should be 8, [11, 1, 11, 11, 11, 11, 11, 1]\n",
    "print(minCoursesForJaneAvoidKK_Solution(812)) # should be 83, [5, 11, 11, 11, 11, 5, 11, 11, 11, 11, 5, 11, 11, 11, 11, 5, 11, 11, 11, 11, 5, 11, 11, 11, 11, 5, 11, 11, 11, 11, 5, 11, 11, 11, 11, 5, 11, 11, 11, 11, 5, 11, 11, 11, 11, 5, 11, 11, 11, 11, 5, 11, 11, 11, 11, 5, 11, 11, 11, 11, 5, 11, 11, 11, 11, 5, 11, 11, 11, 11, 5, 11, 11, 11, 11, 5, 11, 11, 11, 11, 5, 11, 11]"
   ]
  },
  {
   "cell_type": "markdown",
   "metadata": {},
   "source": [
    "## Question 3: Energize Jane with a budget.\n",
    "\n",
    "Unfortunately, life was not as simple as it seemed in problem 2. Besides dealing with Kilokahn, taking a course with a level jump consumes\n",
    "a lot of Jane's energy, and she has an energy $E_0$ to begin with. Each time Jane jumps levels, she loses energy as follows:\n",
    "\n",
    "\n",
    "| Jump   | Energy Consumed |\n",
    "|--------|-----------------|\n",
    "|  1     |       1         |\n",
    "|  4     |       2         |\n",
    "|  5     |       3         |\n",
    "| 11     |       7         |\n",
    "\n",
    "\n",
    "If at any point her energy level is $ \\leq 0$ (even if she is at the destination), she will lose.\n",
    "\n",
    "Given $n$, and initial energy $E_0$, plan how Jane can reach level $n$ (ninja level, in case you forgot) while\n",
    "avoiding Kilokahn who  lurks when dividing the level by $7$ leaves a remainder of $2$ and keeping her energy levels\n",
    "always strictly positive."
   ]
  },
  {
   "cell_type": "markdown",
   "metadata": {},
   "source": [
    "----"
   ]
  },
  {
   "cell_type": "markdown",
   "metadata": {},
   "source": [
    "### 3(A): Write a Recurrence\n",
    "\n",
    "Write a recurrence `minCoursesWithEnergyBudget(j, E, n)` that given that Jane is currently on level `j` with energy `E` finds the minimal \n",
    "number of courses she needs to take to reach `n`. Do not forget the base cases."
   ]
  },
  {
   "cell_type": "code",
   "execution_count": 26,
   "metadata": {},
   "outputs": [],
   "source": [
    "def minCoursesWithEnergyBudget(j, e, n):\n",
    "    #create a dictionary (map) for steps:energy\n",
    "    D={1:1, 4:2, 5:3, 11:7}\n",
    "    #base cases.\n",
    "    #j>n should return a large penalty\n",
    "    if j>n:\n",
    "        return 100000000000\n",
    "    #IF j==n, destination is reached\n",
    "    if j==n:\n",
    "        return 0 \n",
    "    #if energy is exhausted, incur a penalty.\n",
    "    if e<=0:\n",
    "        return 100000000000\n",
    "    #initialize current to infinity. \n",
    "    curr=100000000000\n",
    "    #decompose problem into 1 step for current, and then n-i remainder \n",
    "    for i in D:\n",
    "        #try i steps, and return min of prev steps and subproblem\n",
    "        #check that energy will not be exhausted on potential next step.\n",
    "        if (n-i)%7!=2 and (e-D[i])>0:\n",
    "            curr=min(curr, (1+minCoursesWithEnergyBudget(j, e-D[i], n-i)))\n",
    "    return curr"
   ]
  },
  {
   "cell_type": "code",
   "execution_count": 27,
   "metadata": {},
   "outputs": [
    {
     "name": "stdout",
     "output_type": "stream",
     "text": [
      "2\n",
      "1\n",
      "5\n",
      "7\n",
      "7\n",
      "7\n",
      "11\n",
      "12\n"
     ]
    }
   ],
   "source": [
    "# test code do not edit\n",
    "print(minCoursesWithEnergyBudget(1, 25, 10)) # must be 2\n",
    "print(minCoursesWithEnergyBudget(1, 25, 6)) # must be 1\n",
    "print(minCoursesWithEnergyBudget(1, 25, 30)) # must be 5\n",
    "print(minCoursesWithEnergyBudget(1, 16, 30)) # must be 7\n",
    "print(minCoursesWithEnergyBudget(1, 18, 31)) # must be 7\n",
    "print(minCoursesWithEnergyBudget(1, 22, 38)) # must be 7\n",
    "print(minCoursesWithEnergyBudget(1, 32, 55)) # must be 11\n",
    "print(minCoursesWithEnergyBudget(1, 35, 60)) # must be 12"
   ]
  },
  {
   "cell_type": "markdown",
   "metadata": {},
   "source": [
    "## 3(B): Memoize the Recurrence\n",
    "\n",
    "Write a memo table to memoize the recurrence. Your memo table must be  of the form $T[j][e]$ for $j$ ranging from $1$ to $n$\n",
    "and $e$ ranging from $0$ to $E$. You will have to handle the base cases carefully."
   ]
  },
  {
   "cell_type": "code",
   "execution_count": 18,
   "metadata": {},
   "outputs": [],
   "source": [
    "def Helper(E,n,r):\n",
    "    D={1:1, 4:2, 5:3, 11:7}\n",
    "    \n",
    "    if E<=0 or n<1:\n",
    "        return 100000000000\n",
    "    if 1==n and E>0:\n",
    "        return 0 \n",
    "    if r[n][E]<100000000000:\n",
    "        return r[n][E]\n",
    "    else:\n",
    "    #initialize current to infinity. \n",
    "        curr=100000000000\n",
    "    #decompose problem into 1 step for current, and then n-i remainder \n",
    "        for i in D:\n",
    "        #try i steps, and return min of prev steps and subproblem\n",
    "            if (n-i)%7!=2 and (E-D[i])>0:\n",
    "                curr=min(curr, (1+Helper(E-D[i],n-i, r)))\n",
    "    #memoize current result.\n",
    "    r[n][E]=curr\n",
    "    return curr\n",
    "\n",
    "def minCoursesWithEnergyBudget_Memoize(E, n): # j is assumed 1 and omitted as an argument.\n",
    "    memo=[[100000000000 for x in range(E+1)] for y in range(n+1)]\n",
    "    x=Helper(E,n,memo)\n",
    "    return x"
   ]
  },
  {
   "cell_type": "code",
   "execution_count": 19,
   "metadata": {},
   "outputs": [
    {
     "name": "stdout",
     "output_type": "stream",
     "text": [
      "2\n",
      "1\n",
      "5\n",
      "7\n",
      "7\n",
      "7\n",
      "11\n",
      "12\n"
     ]
    }
   ],
   "source": [
    "# test code do not edit\n",
    "print(minCoursesWithEnergyBudget_Memoize(25, 10)) # must be 2\n",
    "print(minCoursesWithEnergyBudget_Memoize(25, 6)) # must be 1\n",
    "print(minCoursesWithEnergyBudget_Memoize(25, 30)) # must be 5\n",
    "print(minCoursesWithEnergyBudget_Memoize(16, 30)) # must be 7\n",
    "print(minCoursesWithEnergyBudget_Memoize(18, 31)) # must be 7\n",
    "print(minCoursesWithEnergyBudget_Memoize(22, 38)) # must be 7\n",
    "print(minCoursesWithEnergyBudget_Memoize(32, 55)) # must be 11\n",
    "print(minCoursesWithEnergyBudget_Memoize(35, 60)) # must be 12"
   ]
  },
  {
   "cell_type": "markdown",
   "metadata": {},
   "source": [
    "## 3(C): Recover the Solution\n",
    "\n",
    "Now write code that will also return the minimum number of courses along with the list of jumps that will achieve this minimum number"
   ]
  },
  {
   "cell_type": "code",
   "execution_count": 28,
   "metadata": {},
   "outputs": [],
   "source": [
    "#recursive helper function\n",
    "def Helper(j,E,n,r,s):\n",
    "    #dict of step:energy cost\n",
    "    D={1:1, 4:2, 5:3, 11:7}\n",
    "    #base cases, should incur penalty.\n",
    "    if E<=0 or n<1:\n",
    "        return 100000000000\n",
    "    #base case, reached destination\n",
    "    if j==n and E>0:\n",
    "        return 0 \n",
    "    #base case, solution already memoized\n",
    "    if r[n][E]<100000000000:\n",
    "        return r[n][E]\n",
    "    else:\n",
    "    #initialize current distance and energy to infinity. \n",
    "        curr=100000000000\n",
    "        #currE=100000000000\n",
    "    #decompose problem into 1 step for current, and then n-i remainder \n",
    "        for i in D:\n",
    "        #try i steps, and return min of prev steps and subproblem\n",
    "        #Note important checks here to see if the step is optimal. Need BOTH of first two checks\n",
    "        #Also need to make sure that next step doesn't make illegal energy (E<=0)\n",
    "            if (n-i)%7!=2 and ((j+i)%7!=2) and (E-D[i])>0 and  curr>1+Helper(1, E-D[i],n-i, r,s): #and currE>E-D[i]:\n",
    "                #store solution, if optimal choice.\n",
    "                s[n][E]=i\n",
    "                curr=min(curr, 1+(Helper(1, E-D[i],n-i, r,s)))\n",
    "                #currE=min(currE, E-D[i])\n",
    "    #memoize current result.\n",
    "    r[n][E]=curr\n",
    "    return curr\n",
    "\n",
    "#The order is mixed up. This function makes sure that the order doesn't make illegal step (n%7==2), and swaps values if so.\n",
    "def fixOrder(fin):\n",
    "    if fin[0]!=4:\n",
    "        for i in range(1, len(fin)):\n",
    "            if fin[i]!=4:\n",
    "                fin[0], fin[i]=fin[i], fin[0]\n",
    "                break\n",
    "                \n",
    "    first=fin[0]+1\n",
    "    L=len(fin)\n",
    "    for i in range(1, L):\n",
    "        second=fin[i]\n",
    "        if((first+second)%7==2):\n",
    "            for j in range(i, L):\n",
    "                if (first+fin[j])%7!=2:\n",
    "                    break\n",
    "            fin[i-1], fin[j]=fin[j], fin[i-1]\n",
    "            i=i-1\n",
    "        first=second\n",
    "    return fin\n",
    "\n",
    "#calls the recursive helper function, then extracts solution steps.\n",
    "def minCoursesWithEnergyBudget_Solution(E, n): # j is assumed 1 and omitted as an argument.\n",
    "    memo=[[100000000000 for x in range(E+1)] for y in range(n+1)]\n",
    "    s=[[100000000000 for x in range(E+1)] for y in range(n+1)]\n",
    "    D={1:1, 4:2, 5:3, 11:7}\n",
    "    x=Helper(1, E,n,memo,s)\n",
    "    fin=[]\n",
    "    #recover steps from s, store in fin\n",
    "    while n>1:\n",
    "        #append current value\n",
    "        fin.append(s[n][E])\n",
    "        oldn=s[n][E]\n",
    "        #figure out next value to append, based on new E and new N\n",
    "        E=E-D[s[n][E]]\n",
    "        n=n-oldn\n",
    "    #fix the order of the steps so no illegal steps are taken (so i%7!=2)\n",
    "    fin=fixOrder(fin)\n",
    "    return x,fin"
   ]
  },
  {
   "cell_type": "code",
   "execution_count": 29,
   "metadata": {},
   "outputs": [
    {
     "name": "stdout",
     "output_type": "stream",
     "text": [
      "(2, [4, 5])\n",
      "(1, [5])\n",
      "(5, [5, 4, 11, 4, 5])\n",
      "(7, [5, 4, 4, 4, 4, 4, 4])\n",
      "(7, [4, 5, 4, 4, 4, 5, 4])\n",
      "(7, [4, 5, 4, 4, 11, 4, 5])\n",
      "(11, [5, 4, 4, 4, 4, 5, 4, 4, 11, 4, 5])\n",
      "(12, [5, 4, 4, 4, 4, 4, 4, 11, 5, 5, 4, 5])\n"
     ]
    }
   ],
   "source": [
    "# test code do not edit\n",
    "print(minCoursesWithEnergyBudget_Solution(25, 10)) # must be 2, [4,5]\n",
    "print(minCoursesWithEnergyBudget_Solution(25, 6)) # must be 1, [5]\n",
    "print(minCoursesWithEnergyBudget_Solution(25, 30)) # must be 5, [4, 5, 4, 5, 11]\n",
    "print(minCoursesWithEnergyBudget_Solution(16, 30)) # must be 7, [4, 5, 4, 4, 4, 4, 4]\n",
    "print(minCoursesWithEnergyBudget_Solution(18, 31)) # must be 7, [4, 5, 4, 4, 4, 4, 5]\n",
    "print(minCoursesWithEnergyBudget_Solution(22, 38)) # must be 7,  [4, 5, 4, 4, 4, 5, 11]\n",
    "print(minCoursesWithEnergyBudget_Solution(32, 55)) # must be 11, [4, 5, 4, 4, 4, 4, 5, 4, 4, 11, 5]\n",
    "print(minCoursesWithEnergyBudget_Solution(35, 60)) # must be 12, [4, 5, 4, 4, 4, 4, 5, 4, 4, 11, 5, 5]"
   ]
  },
  {
   "cell_type": "markdown",
   "metadata": {},
   "source": [
    "----"
   ]
  },
  {
   "cell_type": "markdown",
   "metadata": {},
   "source": [
    "## Question 4: Subset Sum Problem\n",
    "\n",
    "We are given a set of whole numbers $S:\\ \\{ n_1, \\ldots, n_k \\}$ and a number $N$.\n",
    "Our goal is to choose a subset of numbers $T:\\ \\{ n_{i_1}, \\ldots, n_{i_j} \\} \\subseteq S$ such that\n",
    "\n",
    "   (a) $\\sum_{l=1}^j n_{i_l}  \\leq N$, the sum of chosen numbers is less than or equal to $N$, \n",
    "\n",
    "   (b) The difference $N - \\sum_{l=1}^j n_{i_l} $ is made as small as possible.\n",
    "\n",
    " For example, $S = \\{ 1, 2, 3, 4, 5, 10 \\}$ and $N = 20$ then by choosing $T = \\{1, 2, 3, 4, 5\\}$, we have  \n",
    "$1 + 2 + 3 + 4 + 5 = 15 \\leq 20$, achieving a difference of $5$. However, if we chose $T = \\{ 2,3,5,10\\}$ \n",
    "we obtain a sum of $2 + 3 + 5 + 10 = 20$ achieving the smallest possible difference of $0$.\n",
    "\n",
    "\n",
    "Therefore the problem is as follows:\n",
    "\n",
    "  * Inputs: list  $S: [n_1, \\ldots, n_k]$ and number $N$.\n",
    "  * Output: a list $T$ of elements from $S$ such that sum of elements of $T$ is  $\\leq N$ and $N - \\sum_{e \\in T} e$ is the smallest possible.\n",
    "\n",
    "The subsequent parts to this problem ask you to derive a dynamic programming solution to this problem.\n",
    "\n",
    "__Note:__ Because $S$ and $T$ are viewed as sets, each element in the set may occur exactly once."
   ]
  },
  {
   "cell_type": "markdown",
   "metadata": {},
   "source": [
    " ## 4(A) Show how the decisions can be staged to obtain optimal substructure (expected size: 5 lines)"
   ]
  },
  {
   "cell_type": "markdown",
   "metadata": {},
   "source": [
    "If N<0, return infinity. This makes sure to incur a penalty for going past the target.  \n",
    "If N==0, then return 0, as 0 is the min number of elements to obtain the min subset difference of 0.   \n",
    "Else, the min subset sum that can be obtained is the minimum of inf, and minSubsetDifference_recursive(N-s_list[i], s_list[i+1]).\n",
    "This works by subtracting the value in the array from N, creating an overlapping subproblem, then considering the values in the rest of the list.  \n"
   ]
  },
  {
   "cell_type": "markdown",
   "metadata": {},
   "source": [
    "## 4(B): Write a recursive function for calculating the minimum value of the difference possible. "
   ]
  },
  {
   "cell_type": "code",
   "execution_count": 30,
   "metadata": {},
   "outputs": [],
   "source": [
    "import math\n",
    "from math import inf\n",
    "def minSubsetDifference_recursive(N, s_list):\n",
    "    opts=[]\n",
    "    #start out by appending N to list, which will never be the ultimate min, so that list isn't empty.\n",
    "    opts.append(N)\n",
    "    #if N is 0, then 0 is min difference.\n",
    "    if N == 0: \n",
    "        return 0\n",
    "    #if N<0, return a large penalty.\n",
    "    if N < 0:\n",
    "        return 1000000 # A very large number!\n",
    "    k=len(s_list)\n",
    "    #iterate over each element in k\n",
    "    for i in range(k):\n",
    "        #append the min of inf and the new difference, then consider rest of sublist recursively. append this value.\n",
    "        opts.append(min(inf, minSubsetDifference_recursive(N-s_list[i], s_list[i+1:])))\n",
    "    val = min(opts)\n",
    "    return val"
   ]
  },
  {
   "cell_type": "code",
   "execution_count": 31,
   "metadata": {},
   "outputs": [
    {
     "name": "stdout",
     "output_type": "stream",
     "text": [
      "0\n",
      "1\n",
      "0\n",
      "0\n",
      "0\n",
      "1\n",
      "0\n",
      "1\n"
     ]
    }
   ],
   "source": [
    "# Code for testing your solution\n",
    "# DO NOT EDIT\n",
    "print(minSubsetDifference_recursive(15, [1, 2, 3, 4, 5, 10])) # Should be zero\n",
    "print(minSubsetDifference_recursive(26, [1, 2, 3, 4, 5, 10])) # should be 1\n",
    "print(minSubsetDifference_recursive(23, [1, 2, 3, 4, 5, 10])) # should be 0\n",
    "print(minSubsetDifference_recursive(18, [1, 2, 3, 4, 5, 10])) # should be 0\n",
    "print(minSubsetDifference_recursive(9, [1, 2, 3, 4, 5, 10])) # should be 0\n",
    "print(minSubsetDifference_recursive(457, [11, 23, 37, 48, 94, 152, 230, 312, 339, 413])) # should be 1\n",
    "print(minSubsetDifference_recursive(512, [11, 23, 37, 48, 94, 152, 230, 312, 339, 413])) # should be 0\n",
    "print(minSubsetDifference_recursive(616, [11, 23, 37, 48, 94, 152, 230, 312, 339, 413])) # should be 1\n"
   ]
  },
  {
   "cell_type": "markdown",
   "metadata": {},
   "source": [
    "## 4(C): Memoize the recurrence above. \n",
    "\n",
    "To help with your memoization, use a 2D memo table  $T[n][j]$ that represents the value for `minSubsetDifference(n, s_list[0:j])`. "
   ]
  },
  {
   "cell_type": "code",
   "execution_count": 32,
   "metadata": {},
   "outputs": [],
   "source": [
    "import math\n",
    "from math import inf\n",
    "def minSubsetDifference_Memoize(N, s_list):\n",
    "    #Create memo table\n",
    "    T=[[inf for x in range(N+1)] for y in range(N+1)]\n",
    "    #start out by appending N to list, which will never be the ultimate min, so that list isn't empty.\n",
    "    opts=[]\n",
    "    opts.append(N)\n",
    "    k=len(s_list)\n",
    "    #if N is 0, then 0 is min difference.\n",
    "    if N == 0: \n",
    "        return 0\n",
    "    #if N<0, return a large penalty.\n",
    "    if N < 0:\n",
    "        return inf # A very large number!\n",
    "    #initialize val here, so it is in scope.\n",
    "    val=inf\n",
    "    #iterate over each element up to N\n",
    "    #iterate over each element\n",
    "    for i in range(k):\n",
    "        minn=inf\n",
    "        #append the min of inf and the new difference, then consider rest of sublist recursively. append this value.\n",
    "        if N-s_list[i]>=0 and minn>(N-s_list[i]):\n",
    "            minn=(min(minn, minSubsetDifference_Memoize(N-s_list[i], s_list[i+1:])))\n",
    "            opts.append(minn)\n",
    "    #record and memoize ultimate solution\n",
    "    val=min(opts)\n",
    "    T[N][k-1]=val\n",
    "    \n",
    "    return T[N][k-1]\n"
   ]
  },
  {
   "cell_type": "code",
   "execution_count": 33,
   "metadata": {},
   "outputs": [
    {
     "name": "stdout",
     "output_type": "stream",
     "text": [
      "0\n",
      "1\n",
      "0\n",
      "0\n",
      "0\n",
      "1\n",
      "0\n",
      "1\n"
     ]
    }
   ],
   "source": [
    "# Code for testing your solution\n",
    "# DO NOT EDIT\n",
    "print(minSubsetDifference_Memoize(15, [1, 2, 3, 4, 5, 10])) # Should be 0\n",
    "print(minSubsetDifference_Memoize(26, [1, 2, 3, 4, 5, 10])) # should be 1\n",
    "print(minSubsetDifference_Memoize(23, [1, 2, 3, 4, 5, 10])) # should be 0\n",
    "print(minSubsetDifference_Memoize(18, [1, 2, 3, 4, 5, 10])) # should be 0\n",
    "print(minSubsetDifference_Memoize(9, [1, 2, 3, 4, 5, 10])) # should be 0\n",
    "print(minSubsetDifference_Memoize(457, [11, 23, 37, 48, 94, 152, 230, 312, 339, 413])) # should be 1\n",
    "print(minSubsetDifference_Memoize(512, [11, 23, 37, 48, 94, 152, 230, 312, 339, 413])) # should be 0\n",
    "print(minSubsetDifference_Memoize(616, [11, 23, 37, 48, 94, 152, 230, 312, 339, 413])) # should be 1"
   ]
  },
  {
   "cell_type": "markdown",
   "metadata": {},
   "source": [
    "## 4(D): Write code to recover the solution"
   ]
  },
  {
   "cell_type": "code",
   "execution_count": 34,
   "metadata": {},
   "outputs": [],
   "source": [
    "import math\n",
    "from math import inf\n",
    "def minSubsetDifference_Memoize(N, s_list):\n",
    "    #Create memo table\n",
    "    T=[[inf for x in range(N+1)] for y in range(N+1)]\n",
    "    #start out by appending N to list, which will never be the ultimate min, so that list isn't empty.\n",
    "    opts=[]\n",
    "    opts.append(N)\n",
    "    k=len(s_list)\n",
    "    #if N is 0, then 0 is min difference.\n",
    "    if N == 0: \n",
    "        return 0\n",
    "    #if N<0, return a large penalty.\n",
    "    if N < 0:\n",
    "        return inf # A very large number!\n",
    "    #initialize val here, so it is in scope.\n",
    "    val=inf\n",
    "    #iterate over each element up to N\n",
    "    #iterate over each element\n",
    "    for i in range(k):\n",
    "        minn=inf\n",
    "        #append the min of inf and the new difference, then consider rest of sublist recursively. append this value.\n",
    "        if N-s_list[i]>=0 and minn>(N-s_list[i]):\n",
    "            minn=(min(minn, minSubsetDifference_Memoize(N-s_list[i], s_list[i+1:])))\n",
    "            opts.append(minn)\n",
    "    #record and memoize ultimate solution\n",
    "    val=min(opts)\n",
    "    T[N][k-1]=val\n",
    "    \n",
    "    return T[N][k-1]\n",
    "\n",
    "#This is a helper recursive function to recreate the optimal solution.\n",
    "def recreate(n, a):\n",
    "    #res will store all subsets that sum to n.\n",
    "    res = []\n",
    "    #define find function within recreate in order to work recursively. \n",
    "    def find(a, n, solution=()):\n",
    "        #if arr is empty, just return \n",
    "        if len(a)==0:\n",
    "            return\n",
    "        #if the first value= target, then append this value onto the solution.\n",
    "        if a[0] == n:\n",
    "            res.append(solution + (a[0],))\n",
    "        #recursively try the rest of the sublist, saving result.\n",
    "        else:\n",
    "            #subtract the first value from N, save it, and consider rest of sublist\n",
    "            find(a[1:], n - a[0], solution + (a[0],))\n",
    "            #do not subtract first value from N, don't save it, and consider rest of sublist.\n",
    "            find(a[1:], n, solution)\n",
    "    #call find here\n",
    "    find(a, n)\n",
    "    return res\n",
    "            \n",
    "def minSubsetDifference(n, a):\n",
    "    #find min subset sum difference by calling memoized function.\n",
    "    x=minSubsetDifference_Memoize(n, a)\n",
    "    #if 0 isn't the smallest min subset difference, try with n-1\n",
    "    if x!=0:\n",
    "        L=recreate(n-1, a)\n",
    "    else:\n",
    "        L=recreate(n, a)\n",
    "    return (x, L[0])"
   ]
  },
  {
   "cell_type": "code",
   "execution_count": 35,
   "metadata": {},
   "outputs": [
    {
     "name": "stdout",
     "output_type": "stream",
     "text": [
      "(0, (1, 2, 3, 4, 5))\n",
      "(1, (1, 2, 3, 4, 5, 10))\n",
      "(0, (1, 3, 4, 5, 10))\n",
      "(0, (1, 2, 5, 10))\n",
      "(0, (1, 3, 5))\n",
      "(1, (23, 94, 339))\n",
      "(0, (11, 37, 152, 312))\n",
      "(1, (23, 37, 48, 94, 413))\n"
     ]
    }
   ],
   "source": [
    "# Code for testing your solution\n",
    "# DO NOT EDIT\n",
    "print(minSubsetDifference(15, [1, 2, 3, 4, 5, 10])) # Should be 0, [5, 4, 3, 2, 1]\n",
    "print(minSubsetDifference(26, [1, 2, 3, 4, 5, 10])) # should be 1, [10, 5, 4, 3, 2, 1]\n",
    "print(minSubsetDifference(23, [1, 2, 3, 4, 5, 10])) # should be 0, [10, 5, 4, 3, 1]\n",
    "print(minSubsetDifference(18, [1, 2, 3, 4, 5, 10])) # should be 0, [10, 4, 3, 1]\n",
    "print(minSubsetDifference(9, [1, 2, 3, 4, 5, 10])) # should be 0, [4, 3, 2]\n",
    "print(minSubsetDifference(457, [11, 23, 37, 48, 94, 152, 230, 312, 339, 413])) # should be 1, [339, 94, 23]\n",
    "print(minSubsetDifference(512, [11, 23, 37, 48, 94, 152, 230, 312, 339, 413])) # should be 0, [312, 152, 37, 11]\n",
    "print(minSubsetDifference(616, [11, 23, 37, 48, 94, 152, 230, 312, 339, 413])) # should be 1, [413, 94, 48, 37]"
   ]
  },
  {
   "cell_type": "markdown",
   "metadata": {},
   "source": [
    "## 4 (E): Greedy Solution\n",
    "\n",
    "Suppose we use the following greedy solution to solve the problem.\n",
    "  * $T = \\emptyset$\n",
    "  * While ( $ N \\geq 0 $) \n",
    "    * Select the largest element $e$ for $S$ that is smaller than $N$\n",
    "    * Remove $e$ from $S$\n",
    "    * Add $e$ to $T$\n",
    "    * N = N - e\n",
    "  * return (N, T)\n",
    "  \n",
    "Using an example, show that the greedy algorithm does not necessarily produce the optimal solution."
   ]
  },
  {
   "cell_type": "markdown",
   "metadata": {},
   "source": [
    "### Answer (4 lines)"
   ]
  },
  {
   "cell_type": "markdown",
   "metadata": {},
   "source": [
    "An example with N=512, and a set of  [11, 23, 37, 48, 94, 152, 230, 312, 339, 413] demonstrates why the greedy algorithm isn't always optimal.   \n",
    "First, 413 is selected, so that N=99 and T=[413].  \n",
    "Next, 94 is the largest element that is smaller than 99, so N=5 and T=[413, 94].\n",
    "There are no other numbers smaller than 5 to be selected, so that 5 is returned as the min subset sum. \n",
    "\n",
    "Using dynamic programming, the optimal solution is 0, [312, 152, 37, 11], which is much better.   "
   ]
  },
  {
   "cell_type": "markdown",
   "metadata": {},
   "source": [
    "## Testing your solutions -- Do not edit code beyond this point"
   ]
  }
 ],
 "metadata": {
  "kernelspec": {
   "display_name": "Python 3",
   "language": "python",
   "name": "python3"
  },
  "language_info": {
   "codemirror_mode": {
    "name": "ipython",
    "version": 3
   },
   "file_extension": ".py",
   "mimetype": "text/x-python",
   "name": "python",
   "nbconvert_exporter": "python",
   "pygments_lexer": "ipython3",
   "version": "3.8.6"
  }
 },
 "nbformat": 4,
 "nbformat_minor": 4
}
